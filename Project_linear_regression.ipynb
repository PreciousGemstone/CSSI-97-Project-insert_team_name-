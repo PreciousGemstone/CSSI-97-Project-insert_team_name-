{
  "nbformat": 4,
  "nbformat_minor": 0,
  "metadata": {
    "colab": {
      "provenance": [],
      "authorship_tag": "ABX9TyNEI8Un6FvQ7GO1ssMACf7D",
      "include_colab_link": true
    },
    "kernelspec": {
      "name": "python3",
      "display_name": "Python 3"
    },
    "language_info": {
      "name": "python"
    }
  },
  "cells": [
    {
      "cell_type": "markdown",
      "metadata": {
        "id": "view-in-github",
        "colab_type": "text"
      },
      "source": [
        "<a href=\"https://colab.research.google.com/github/PreciousGemstone/CSSI-97-Project-insert_team_name-/blob/main/Project_linear_regression.ipynb\" target=\"_parent\"><img src=\"https://colab.research.google.com/assets/colab-badge.svg\" alt=\"Open In Colab\"/></a>"
      ]
    },
    {
      "cell_type": "code",
      "execution_count": 26,
      "metadata": {
        "id": "rvPwCuPoKA9y"
      },
      "outputs": [],
      "source": [
        "import numpy as np\n",
        "import pandas as pd\n",
        "import sklearn\n",
        "from sklearn.model_selection import train_test_split\n",
        "from sklearn.linear_model import LinearRegression\n",
        "from sklearn.metrics import mean_squared_error, r2_score, mean_absolute_error\n",
        "from sklearn import linear_model\n",
        "from sklearn.linear_model import LassoCV\n",
        "from sklearn.linear_model import RidgeCV\n",
        "from sklearn.preprocessing import StandardScaler\n",
        "import matplotlib.pyplot as plt"
      ]
    },
    {
      "cell_type": "code",
      "source": [
        "def three_metrics(y_test, y_pred):\n",
        "\n",
        "  mse = mean_squared_error(y_test, y_pred)\n",
        "  mae = mean_absolute_error(y_test, y_pred)\n",
        "  r2 = r2_score(y_test, y_pred)\n",
        "\n",
        "\n",
        "  print(\"Mean Squared Error: \" + str(mse))\n",
        "  print(\"Mean Absolute Error: \" + str(mae))\n",
        "  print(\"r2 score: \" + str(r2))"
      ],
      "metadata": {
        "id": "I6IwSpso6V1t"
      },
      "execution_count": 27,
      "outputs": []
    },
    {
      "cell_type": "code",
      "source": [
        "#@title get_data function\n",
        "def get_data():\n",
        "  data = 'https://raw.githubusercontent.com/PreciousGemstone/CSSI-97-Project-insert_team_name-/refs/heads/main/laptop_prices.csv'\n",
        "  laptop = pd.read_csv(data)\n",
        "  #AI helped write this code\n",
        "\n",
        "  def categorize_cpu(cpu_model):\n",
        "      if isinstance(cpu_model, str):\n",
        "          cpu_model_lower = cpu_model.lower()\n",
        "          if 'core i7' in cpu_model_lower:\n",
        "              return 'Core i7'\n",
        "          elif 'core i5' in cpu_model_lower:\n",
        "              return 'Core i5'\n",
        "          elif 'core i3' in cpu_model_lower:\n",
        "              return 'Core i3'\n",
        "          elif 'ryzen' in cpu_model_lower:\n",
        "              return 'Ryzen'\n",
        "          elif 'celeron' in cpu_model_lower:\n",
        "              return 'Celeron'\n",
        "          elif 'atom' in cpu_model_lower:\n",
        "              return 'Atom'\n",
        "          elif 'xeon' in cpu_model_lower:\n",
        "              return 'Xeon'\n",
        "          elif 'a' in cpu_model_lower and '-series' in cpu_model_lower:\n",
        "              return 'A-Series'\n",
        "          elif 'e' in cpu_model_lower and '-series' in cpu_model_lower:\n",
        "              return 'E-Series'\n",
        "          elif 'fx' in cpu_model_lower:\n",
        "              return 'FX-Series'\n",
        "          elif 'pentium' in cpu_model_lower:\n",
        "              return 'Pentium'\n",
        "          elif 'core m' in cpu_model_lower:\n",
        "              return 'Core M'\n",
        "          elif 'cortex' in cpu_model_lower:\n",
        "              return 'Cortex'\n",
        "          else:\n",
        "              return 'Other'\n",
        "      return 'Unknown'\n",
        "\n",
        "  laptop['CPU_categories'] = laptop['CPU_model'].apply(categorize_cpu)\n",
        "\n",
        "  def categorize_gpu(gpu_model):\n",
        "      if isinstance(gpu_model, str):\n",
        "          gpu_model_lower = gpu_model.lower()\n",
        "          if 'geforce gtx' in gpu_model_lower:\n",
        "              return 'Nvidia GeForce GTX'\n",
        "          elif 'geforce mx' in gpu_model_lower:\n",
        "              return 'Nvidia GeForce MX'\n",
        "          elif 'geforce' in gpu_model_lower:\n",
        "              return 'Nvidia GeForce'\n",
        "          elif 'quadro' in gpu_model_lower:\n",
        "              return 'Nvidia Quadro'\n",
        "          elif 'nvidia' in gpu_model_lower:\n",
        "              return 'Nvidia (Other)'\n",
        "          elif 'radeon pro' in gpu_model_lower:\n",
        "              return 'AMD Radeon Pro'\n",
        "          elif 'radeon' in gpu_model_lower:\n",
        "              return 'AMD Radeon'\n",
        "          elif 'amd' in gpu_model_lower:\n",
        "              return 'AMD (Other)'\n",
        "          elif 'iris plus graphics' in gpu_model_lower:\n",
        "              return 'Intel Iris Plus'\n",
        "          elif 'hd graphics' in gpu_model_lower:\n",
        "              return 'Intel HD Graphics'\n",
        "          elif 'intel' in gpu_model_lower or 'graphics' in gpu_model_lower:\n",
        "              return 'Intel (Other)'\n",
        "          else:\n",
        "              return 'Other'\n",
        "      return 'Unknown'\n",
        "\n",
        "  laptop['GPU_categories'] = laptop['GPU_model'].apply(categorize_gpu)\n",
        "\n",
        "  #No more AI after this\n",
        "\n",
        "  improved_laptop=laptop.drop(['CPU_model','GPU_model'],axis=1)\n",
        "  improved_laptop=improved_laptop.drop(['Product','Company','TypeName','OS', 'CPU_company', 'GPU_company'],axis=1)\n",
        "\n",
        "  improved_laptop = pd.get_dummies(improved_laptop, columns=['CPU_categories','GPU_categories', 'Touchscreen', 'PrimaryStorageType','SecondaryStorageType',\n",
        "                                                           'Screen', 'RetinaDisplay','IPSpanel'], drop_first=True, dtype=int)\n",
        "\n",
        "  improved_laptop_noscale = improved_laptop\n",
        "  laptop_prices = improved_laptop[['Price_euros']]\n",
        "  improved_laptop_features = improved_laptop.drop('Price_euros', axis=1)\n",
        "\n",
        "\n",
        "  improved_laptop_onehot = improved_laptop_features.drop(['Inches', 'Ram', 'Weight', 'ScreenW', 'ScreenH',\n",
        "                                                'CPU_freq', 'PrimaryStorage', 'SecondaryStorage'],axis=1)\n",
        "  improved_laptop_continous = improved_laptop_features[['Inches', 'Ram', 'Weight', 'ScreenW', 'ScreenH',\n",
        "                                                'CPU_freq', 'PrimaryStorage', 'SecondaryStorage']]\n",
        "\n",
        "  scaler = StandardScaler()\n",
        "  price_scaler = StandardScaler()\n",
        "\n",
        "  improved_laptop_continous_scaled = scaler.fit_transform(improved_laptop_continous)\n",
        "  laptop_prices_scaled = price_scaler.fit_transform(laptop_prices)\n",
        "\n",
        "  improved_laptop_continous = pd.DataFrame(improved_laptop_continous_scaled, columns= improved_laptop_continous.columns)\n",
        "  laptop_prices = pd.DataFrame(laptop_prices_scaled, columns= laptop_prices.columns)\n",
        "\n",
        "  improved_laptop = pd.concat([improved_laptop_continous, improved_laptop_onehot], axis=1)\n",
        "\n",
        "  improved_laptop_wprice = pd.concat([laptop_prices, improved_laptop], axis=1)\n",
        "\n",
        "  X, y = improved_laptop.values, laptop_prices.values\n",
        "  X_train, X_test, y_train, y_test = train_test_split(X, y, test_size = 0.2, random_state = 30)\n",
        "  return(X_train, X_test, y_train, y_test, scaler, price_scaler, improved_laptop, improved_laptop_wprice, laptop_prices, improved_laptop_continous, improved_laptop_noscale)"
      ],
      "metadata": {
        "id": "Puacn7cQMK0_"
      },
      "execution_count": 28,
      "outputs": []
    },
    {
      "cell_type": "code",
      "source": [
        "X_train, X_test, y_train, y_test, scaler, price_scaler, improved_laptop, improved_laptop_wprice, laptop_prices, improved_laptop_continous, improved_laptop_noscale = get_data()"
      ],
      "metadata": {
        "id": "15egx-kyMnSF"
      },
      "execution_count": 29,
      "outputs": []
    },
    {
      "cell_type": "code",
      "source": [
        "display(improved_laptop_noscale[improved_laptop_noscale['Price_euros'] >3000])"
      ],
      "metadata": {
        "colab": {
          "base_uri": "https://localhost:8080/",
          "height": 712
        },
        "id": "EBlRwV0Ge2r8",
        "outputId": "21030733-72cd-41be-b9fe-b2f6bbdd3dc7"
      },
      "execution_count": 44,
      "outputs": [
        {
          "output_type": "display_data",
          "data": {
            "text/plain": [
              "      Inches  Ram  Weight  Price_euros  ScreenW  ScreenH  CPU_freq  \\\n",
              "196     17.3   32    3.49      6099.00     3840     2160       2.9   \n",
              "204     15.6   16    2.80      3055.00     3840     2160       3.0   \n",
              "238     17.3   32    4.70      3890.00     1920     1080       2.9   \n",
              "530     17.3   16    4.42      3012.77     1920     1080       2.8   \n",
              "610     15.6   32    2.50      4899.00     3840     2160       3.1   \n",
              "659     17.3   32    4.42      3147.37     3840     2160       2.8   \n",
              "723     17.3   32    4.36      3659.40     3840     2160       2.8   \n",
              "744     15.6   16    2.50      3299.00     3840     2160       2.8   \n",
              "749     17.3   16    3.00      4389.00     1920     1080       2.9   \n",
              "780     17.3   32    4.42      3588.80     1920     1080       2.8   \n",
              "830     17.3   32    3.49      5499.00     3840     2160       2.9   \n",
              "841     17.3   32    4.42      3072.89     1920     1080       2.8   \n",
              "911     12.5    8    1.09      3100.00     3840     2160       1.2   \n",
              "955     17.3   16    4.36      3154.00     3840     2160       2.8   \n",
              "968     17.3   32    4.42      3149.00     1920     1080       2.8   \n",
              "1066    17.3   64    3.58      3975.00     1920     1080       2.7   \n",
              "1081    17.3   32    4.60      3240.00     1920     1080       2.7   \n",
              "1136    17.3    8    3.00      3949.40     1920     1080       2.6   \n",
              "1231    14.0   16    1.95      3499.00     1920     1080       2.8   \n",
              "\n",
              "      PrimaryStorage  SecondaryStorage  CPU_categories_Atom  ...  \\\n",
              "196             1024                 0                    0  ...   \n",
              "204              256              1024                    0  ...   \n",
              "238              512              1024                    0  ...   \n",
              "530              128              1024                    0  ...   \n",
              "610             1024                 0                    0  ...   \n",
              "659              512              1024                    0  ...   \n",
              "723             1024              1024                    0  ...   \n",
              "744             1024                 0                    0  ...   \n",
              "749              256                 0                    0  ...   \n",
              "780             1024              1024                    0  ...   \n",
              "830              512                 0                    0  ...   \n",
              "841              512              1024                    0  ...   \n",
              "911              240                 0                    0  ...   \n",
              "955              512              1024                    0  ...   \n",
              "968              256              1024                    0  ...   \n",
              "1066            1024                 0                    0  ...   \n",
              "1081             512              1024                    0  ...   \n",
              "1136             256                 0                    0  ...   \n",
              "1231            1024                 0                    0  ...   \n",
              "\n",
              "      PrimaryStorageType_Hybrid  PrimaryStorageType_SSD  \\\n",
              "196                           0                       1   \n",
              "204                           0                       1   \n",
              "238                           0                       1   \n",
              "530                           0                       1   \n",
              "610                           0                       1   \n",
              "659                           0                       1   \n",
              "723                           0                       1   \n",
              "744                           0                       1   \n",
              "749                           0                       1   \n",
              "780                           0                       1   \n",
              "830                           0                       1   \n",
              "841                           0                       1   \n",
              "911                           0                       1   \n",
              "955                           0                       1   \n",
              "968                           0                       1   \n",
              "1066                          0                       1   \n",
              "1081                          0                       1   \n",
              "1136                          0                       1   \n",
              "1231                          0                       1   \n",
              "\n",
              "      SecondaryStorageType_Hybrid  SecondaryStorageType_No  \\\n",
              "196                             0                        1   \n",
              "204                             0                        0   \n",
              "238                             0                        0   \n",
              "530                             0                        0   \n",
              "610                             0                        1   \n",
              "659                             0                        0   \n",
              "723                             0                        0   \n",
              "744                             0                        1   \n",
              "749                             0                        1   \n",
              "780                             0                        0   \n",
              "830                             0                        1   \n",
              "841                             0                        0   \n",
              "911                             0                        1   \n",
              "955                             0                        0   \n",
              "968                             0                        0   \n",
              "1066                            0                        1   \n",
              "1081                            1                        0   \n",
              "1136                            0                        1   \n",
              "1231                            0                        1   \n",
              "\n",
              "      SecondaryStorageType_SSD  Screen_Full HD  Screen_Quad HD+  \\\n",
              "196                          0               0                0   \n",
              "204                          0               0                0   \n",
              "238                          0               1                0   \n",
              "530                          0               1                0   \n",
              "610                          0               0                0   \n",
              "659                          0               0                0   \n",
              "723                          0               0                0   \n",
              "744                          0               0                0   \n",
              "749                          0               1                0   \n",
              "780                          0               1                0   \n",
              "830                          0               0                0   \n",
              "841                          0               1                0   \n",
              "911                          0               0                0   \n",
              "955                          0               0                0   \n",
              "968                          0               1                0   \n",
              "1066                         0               1                0   \n",
              "1081                         0               1                0   \n",
              "1136                         0               1                0   \n",
              "1231                         0               1                0   \n",
              "\n",
              "      Screen_Standard  RetinaDisplay_Yes  IPSpanel_Yes  \n",
              "196                 0                  0             0  \n",
              "204                 0                  0             0  \n",
              "238                 0                  0             0  \n",
              "530                 0                  0             1  \n",
              "610                 0                  0             1  \n",
              "659                 0                  0             1  \n",
              "723                 0                  0             0  \n",
              "744                 0                  0             1  \n",
              "749                 0                  0             1  \n",
              "780                 0                  0             1  \n",
              "830                 0                  0             0  \n",
              "841                 0                  0             1  \n",
              "911                 0                  0             0  \n",
              "955                 0                  0             1  \n",
              "968                 0                  0             1  \n",
              "1066                0                  0             1  \n",
              "1081                0                  0             1  \n",
              "1136                0                  0             1  \n",
              "1231                0                  0             0  \n",
              "\n",
              "[19 rows x 42 columns]"
            ],
            "text/html": [
              "\n",
              "  <div id=\"df-bce3f8ce-5e96-4e40-9e66-abf57fc45d04\" class=\"colab-df-container\">\n",
              "    <div>\n",
              "<style scoped>\n",
              "    .dataframe tbody tr th:only-of-type {\n",
              "        vertical-align: middle;\n",
              "    }\n",
              "\n",
              "    .dataframe tbody tr th {\n",
              "        vertical-align: top;\n",
              "    }\n",
              "\n",
              "    .dataframe thead th {\n",
              "        text-align: right;\n",
              "    }\n",
              "</style>\n",
              "<table border=\"1\" class=\"dataframe\">\n",
              "  <thead>\n",
              "    <tr style=\"text-align: right;\">\n",
              "      <th></th>\n",
              "      <th>Inches</th>\n",
              "      <th>Ram</th>\n",
              "      <th>Weight</th>\n",
              "      <th>Price_euros</th>\n",
              "      <th>ScreenW</th>\n",
              "      <th>ScreenH</th>\n",
              "      <th>CPU_freq</th>\n",
              "      <th>PrimaryStorage</th>\n",
              "      <th>SecondaryStorage</th>\n",
              "      <th>CPU_categories_Atom</th>\n",
              "      <th>...</th>\n",
              "      <th>PrimaryStorageType_Hybrid</th>\n",
              "      <th>PrimaryStorageType_SSD</th>\n",
              "      <th>SecondaryStorageType_Hybrid</th>\n",
              "      <th>SecondaryStorageType_No</th>\n",
              "      <th>SecondaryStorageType_SSD</th>\n",
              "      <th>Screen_Full HD</th>\n",
              "      <th>Screen_Quad HD+</th>\n",
              "      <th>Screen_Standard</th>\n",
              "      <th>RetinaDisplay_Yes</th>\n",
              "      <th>IPSpanel_Yes</th>\n",
              "    </tr>\n",
              "  </thead>\n",
              "  <tbody>\n",
              "    <tr>\n",
              "      <th>196</th>\n",
              "      <td>17.3</td>\n",
              "      <td>32</td>\n",
              "      <td>3.49</td>\n",
              "      <td>6099.00</td>\n",
              "      <td>3840</td>\n",
              "      <td>2160</td>\n",
              "      <td>2.9</td>\n",
              "      <td>1024</td>\n",
              "      <td>0</td>\n",
              "      <td>0</td>\n",
              "      <td>...</td>\n",
              "      <td>0</td>\n",
              "      <td>1</td>\n",
              "      <td>0</td>\n",
              "      <td>1</td>\n",
              "      <td>0</td>\n",
              "      <td>0</td>\n",
              "      <td>0</td>\n",
              "      <td>0</td>\n",
              "      <td>0</td>\n",
              "      <td>0</td>\n",
              "    </tr>\n",
              "    <tr>\n",
              "      <th>204</th>\n",
              "      <td>15.6</td>\n",
              "      <td>16</td>\n",
              "      <td>2.80</td>\n",
              "      <td>3055.00</td>\n",
              "      <td>3840</td>\n",
              "      <td>2160</td>\n",
              "      <td>3.0</td>\n",
              "      <td>256</td>\n",
              "      <td>1024</td>\n",
              "      <td>0</td>\n",
              "      <td>...</td>\n",
              "      <td>0</td>\n",
              "      <td>1</td>\n",
              "      <td>0</td>\n",
              "      <td>0</td>\n",
              "      <td>0</td>\n",
              "      <td>0</td>\n",
              "      <td>0</td>\n",
              "      <td>0</td>\n",
              "      <td>0</td>\n",
              "      <td>0</td>\n",
              "    </tr>\n",
              "    <tr>\n",
              "      <th>238</th>\n",
              "      <td>17.3</td>\n",
              "      <td>32</td>\n",
              "      <td>4.70</td>\n",
              "      <td>3890.00</td>\n",
              "      <td>1920</td>\n",
              "      <td>1080</td>\n",
              "      <td>2.9</td>\n",
              "      <td>512</td>\n",
              "      <td>1024</td>\n",
              "      <td>0</td>\n",
              "      <td>...</td>\n",
              "      <td>0</td>\n",
              "      <td>1</td>\n",
              "      <td>0</td>\n",
              "      <td>0</td>\n",
              "      <td>0</td>\n",
              "      <td>1</td>\n",
              "      <td>0</td>\n",
              "      <td>0</td>\n",
              "      <td>0</td>\n",
              "      <td>0</td>\n",
              "    </tr>\n",
              "    <tr>\n",
              "      <th>530</th>\n",
              "      <td>17.3</td>\n",
              "      <td>16</td>\n",
              "      <td>4.42</td>\n",
              "      <td>3012.77</td>\n",
              "      <td>1920</td>\n",
              "      <td>1080</td>\n",
              "      <td>2.8</td>\n",
              "      <td>128</td>\n",
              "      <td>1024</td>\n",
              "      <td>0</td>\n",
              "      <td>...</td>\n",
              "      <td>0</td>\n",
              "      <td>1</td>\n",
              "      <td>0</td>\n",
              "      <td>0</td>\n",
              "      <td>0</td>\n",
              "      <td>1</td>\n",
              "      <td>0</td>\n",
              "      <td>0</td>\n",
              "      <td>0</td>\n",
              "      <td>1</td>\n",
              "    </tr>\n",
              "    <tr>\n",
              "      <th>610</th>\n",
              "      <td>15.6</td>\n",
              "      <td>32</td>\n",
              "      <td>2.50</td>\n",
              "      <td>4899.00</td>\n",
              "      <td>3840</td>\n",
              "      <td>2160</td>\n",
              "      <td>3.1</td>\n",
              "      <td>1024</td>\n",
              "      <td>0</td>\n",
              "      <td>0</td>\n",
              "      <td>...</td>\n",
              "      <td>0</td>\n",
              "      <td>1</td>\n",
              "      <td>0</td>\n",
              "      <td>1</td>\n",
              "      <td>0</td>\n",
              "      <td>0</td>\n",
              "      <td>0</td>\n",
              "      <td>0</td>\n",
              "      <td>0</td>\n",
              "      <td>1</td>\n",
              "    </tr>\n",
              "    <tr>\n",
              "      <th>659</th>\n",
              "      <td>17.3</td>\n",
              "      <td>32</td>\n",
              "      <td>4.42</td>\n",
              "      <td>3147.37</td>\n",
              "      <td>3840</td>\n",
              "      <td>2160</td>\n",
              "      <td>2.8</td>\n",
              "      <td>512</td>\n",
              "      <td>1024</td>\n",
              "      <td>0</td>\n",
              "      <td>...</td>\n",
              "      <td>0</td>\n",
              "      <td>1</td>\n",
              "      <td>0</td>\n",
              "      <td>0</td>\n",
              "      <td>0</td>\n",
              "      <td>0</td>\n",
              "      <td>0</td>\n",
              "      <td>0</td>\n",
              "      <td>0</td>\n",
              "      <td>1</td>\n",
              "    </tr>\n",
              "    <tr>\n",
              "      <th>723</th>\n",
              "      <td>17.3</td>\n",
              "      <td>32</td>\n",
              "      <td>4.36</td>\n",
              "      <td>3659.40</td>\n",
              "      <td>3840</td>\n",
              "      <td>2160</td>\n",
              "      <td>2.8</td>\n",
              "      <td>1024</td>\n",
              "      <td>1024</td>\n",
              "      <td>0</td>\n",
              "      <td>...</td>\n",
              "      <td>0</td>\n",
              "      <td>1</td>\n",
              "      <td>0</td>\n",
              "      <td>0</td>\n",
              "      <td>0</td>\n",
              "      <td>0</td>\n",
              "      <td>0</td>\n",
              "      <td>0</td>\n",
              "      <td>0</td>\n",
              "      <td>0</td>\n",
              "    </tr>\n",
              "    <tr>\n",
              "      <th>744</th>\n",
              "      <td>15.6</td>\n",
              "      <td>16</td>\n",
              "      <td>2.50</td>\n",
              "      <td>3299.00</td>\n",
              "      <td>3840</td>\n",
              "      <td>2160</td>\n",
              "      <td>2.8</td>\n",
              "      <td>1024</td>\n",
              "      <td>0</td>\n",
              "      <td>0</td>\n",
              "      <td>...</td>\n",
              "      <td>0</td>\n",
              "      <td>1</td>\n",
              "      <td>0</td>\n",
              "      <td>1</td>\n",
              "      <td>0</td>\n",
              "      <td>0</td>\n",
              "      <td>0</td>\n",
              "      <td>0</td>\n",
              "      <td>0</td>\n",
              "      <td>1</td>\n",
              "    </tr>\n",
              "    <tr>\n",
              "      <th>749</th>\n",
              "      <td>17.3</td>\n",
              "      <td>16</td>\n",
              "      <td>3.00</td>\n",
              "      <td>4389.00</td>\n",
              "      <td>1920</td>\n",
              "      <td>1080</td>\n",
              "      <td>2.9</td>\n",
              "      <td>256</td>\n",
              "      <td>0</td>\n",
              "      <td>0</td>\n",
              "      <td>...</td>\n",
              "      <td>0</td>\n",
              "      <td>1</td>\n",
              "      <td>0</td>\n",
              "      <td>1</td>\n",
              "      <td>0</td>\n",
              "      <td>1</td>\n",
              "      <td>0</td>\n",
              "      <td>0</td>\n",
              "      <td>0</td>\n",
              "      <td>1</td>\n",
              "    </tr>\n",
              "    <tr>\n",
              "      <th>780</th>\n",
              "      <td>17.3</td>\n",
              "      <td>32</td>\n",
              "      <td>4.42</td>\n",
              "      <td>3588.80</td>\n",
              "      <td>1920</td>\n",
              "      <td>1080</td>\n",
              "      <td>2.8</td>\n",
              "      <td>1024</td>\n",
              "      <td>1024</td>\n",
              "      <td>0</td>\n",
              "      <td>...</td>\n",
              "      <td>0</td>\n",
              "      <td>1</td>\n",
              "      <td>0</td>\n",
              "      <td>0</td>\n",
              "      <td>0</td>\n",
              "      <td>1</td>\n",
              "      <td>0</td>\n",
              "      <td>0</td>\n",
              "      <td>0</td>\n",
              "      <td>1</td>\n",
              "    </tr>\n",
              "    <tr>\n",
              "      <th>830</th>\n",
              "      <td>17.3</td>\n",
              "      <td>32</td>\n",
              "      <td>3.49</td>\n",
              "      <td>5499.00</td>\n",
              "      <td>3840</td>\n",
              "      <td>2160</td>\n",
              "      <td>2.9</td>\n",
              "      <td>512</td>\n",
              "      <td>0</td>\n",
              "      <td>0</td>\n",
              "      <td>...</td>\n",
              "      <td>0</td>\n",
              "      <td>1</td>\n",
              "      <td>0</td>\n",
              "      <td>1</td>\n",
              "      <td>0</td>\n",
              "      <td>0</td>\n",
              "      <td>0</td>\n",
              "      <td>0</td>\n",
              "      <td>0</td>\n",
              "      <td>0</td>\n",
              "    </tr>\n",
              "    <tr>\n",
              "      <th>841</th>\n",
              "      <td>17.3</td>\n",
              "      <td>32</td>\n",
              "      <td>4.42</td>\n",
              "      <td>3072.89</td>\n",
              "      <td>1920</td>\n",
              "      <td>1080</td>\n",
              "      <td>2.8</td>\n",
              "      <td>512</td>\n",
              "      <td>1024</td>\n",
              "      <td>0</td>\n",
              "      <td>...</td>\n",
              "      <td>0</td>\n",
              "      <td>1</td>\n",
              "      <td>0</td>\n",
              "      <td>0</td>\n",
              "      <td>0</td>\n",
              "      <td>1</td>\n",
              "      <td>0</td>\n",
              "      <td>0</td>\n",
              "      <td>0</td>\n",
              "      <td>1</td>\n",
              "    </tr>\n",
              "    <tr>\n",
              "      <th>911</th>\n",
              "      <td>12.5</td>\n",
              "      <td>8</td>\n",
              "      <td>1.09</td>\n",
              "      <td>3100.00</td>\n",
              "      <td>3840</td>\n",
              "      <td>2160</td>\n",
              "      <td>1.2</td>\n",
              "      <td>240</td>\n",
              "      <td>0</td>\n",
              "      <td>0</td>\n",
              "      <td>...</td>\n",
              "      <td>0</td>\n",
              "      <td>1</td>\n",
              "      <td>0</td>\n",
              "      <td>1</td>\n",
              "      <td>0</td>\n",
              "      <td>0</td>\n",
              "      <td>0</td>\n",
              "      <td>0</td>\n",
              "      <td>0</td>\n",
              "      <td>0</td>\n",
              "    </tr>\n",
              "    <tr>\n",
              "      <th>955</th>\n",
              "      <td>17.3</td>\n",
              "      <td>16</td>\n",
              "      <td>4.36</td>\n",
              "      <td>3154.00</td>\n",
              "      <td>3840</td>\n",
              "      <td>2160</td>\n",
              "      <td>2.8</td>\n",
              "      <td>512</td>\n",
              "      <td>1024</td>\n",
              "      <td>0</td>\n",
              "      <td>...</td>\n",
              "      <td>0</td>\n",
              "      <td>1</td>\n",
              "      <td>0</td>\n",
              "      <td>0</td>\n",
              "      <td>0</td>\n",
              "      <td>0</td>\n",
              "      <td>0</td>\n",
              "      <td>0</td>\n",
              "      <td>0</td>\n",
              "      <td>1</td>\n",
              "    </tr>\n",
              "    <tr>\n",
              "      <th>968</th>\n",
              "      <td>17.3</td>\n",
              "      <td>32</td>\n",
              "      <td>4.42</td>\n",
              "      <td>3149.00</td>\n",
              "      <td>1920</td>\n",
              "      <td>1080</td>\n",
              "      <td>2.8</td>\n",
              "      <td>256</td>\n",
              "      <td>1024</td>\n",
              "      <td>0</td>\n",
              "      <td>...</td>\n",
              "      <td>0</td>\n",
              "      <td>1</td>\n",
              "      <td>0</td>\n",
              "      <td>0</td>\n",
              "      <td>0</td>\n",
              "      <td>1</td>\n",
              "      <td>0</td>\n",
              "      <td>0</td>\n",
              "      <td>0</td>\n",
              "      <td>1</td>\n",
              "    </tr>\n",
              "    <tr>\n",
              "      <th>1066</th>\n",
              "      <td>17.3</td>\n",
              "      <td>64</td>\n",
              "      <td>3.58</td>\n",
              "      <td>3975.00</td>\n",
              "      <td>1920</td>\n",
              "      <td>1080</td>\n",
              "      <td>2.7</td>\n",
              "      <td>1024</td>\n",
              "      <td>0</td>\n",
              "      <td>0</td>\n",
              "      <td>...</td>\n",
              "      <td>0</td>\n",
              "      <td>1</td>\n",
              "      <td>0</td>\n",
              "      <td>1</td>\n",
              "      <td>0</td>\n",
              "      <td>1</td>\n",
              "      <td>0</td>\n",
              "      <td>0</td>\n",
              "      <td>0</td>\n",
              "      <td>1</td>\n",
              "    </tr>\n",
              "    <tr>\n",
              "      <th>1081</th>\n",
              "      <td>17.3</td>\n",
              "      <td>32</td>\n",
              "      <td>4.60</td>\n",
              "      <td>3240.00</td>\n",
              "      <td>1920</td>\n",
              "      <td>1080</td>\n",
              "      <td>2.7</td>\n",
              "      <td>512</td>\n",
              "      <td>1024</td>\n",
              "      <td>0</td>\n",
              "      <td>...</td>\n",
              "      <td>0</td>\n",
              "      <td>1</td>\n",
              "      <td>1</td>\n",
              "      <td>0</td>\n",
              "      <td>0</td>\n",
              "      <td>1</td>\n",
              "      <td>0</td>\n",
              "      <td>0</td>\n",
              "      <td>0</td>\n",
              "      <td>1</td>\n",
              "    </tr>\n",
              "    <tr>\n",
              "      <th>1136</th>\n",
              "      <td>17.3</td>\n",
              "      <td>8</td>\n",
              "      <td>3.00</td>\n",
              "      <td>3949.40</td>\n",
              "      <td>1920</td>\n",
              "      <td>1080</td>\n",
              "      <td>2.6</td>\n",
              "      <td>256</td>\n",
              "      <td>0</td>\n",
              "      <td>0</td>\n",
              "      <td>...</td>\n",
              "      <td>0</td>\n",
              "      <td>1</td>\n",
              "      <td>0</td>\n",
              "      <td>1</td>\n",
              "      <td>0</td>\n",
              "      <td>1</td>\n",
              "      <td>0</td>\n",
              "      <td>0</td>\n",
              "      <td>0</td>\n",
              "      <td>1</td>\n",
              "    </tr>\n",
              "    <tr>\n",
              "      <th>1231</th>\n",
              "      <td>14.0</td>\n",
              "      <td>16</td>\n",
              "      <td>1.95</td>\n",
              "      <td>3499.00</td>\n",
              "      <td>1920</td>\n",
              "      <td>1080</td>\n",
              "      <td>2.8</td>\n",
              "      <td>1024</td>\n",
              "      <td>0</td>\n",
              "      <td>0</td>\n",
              "      <td>...</td>\n",
              "      <td>0</td>\n",
              "      <td>1</td>\n",
              "      <td>0</td>\n",
              "      <td>1</td>\n",
              "      <td>0</td>\n",
              "      <td>1</td>\n",
              "      <td>0</td>\n",
              "      <td>0</td>\n",
              "      <td>0</td>\n",
              "      <td>0</td>\n",
              "    </tr>\n",
              "  </tbody>\n",
              "</table>\n",
              "<p>19 rows × 42 columns</p>\n",
              "</div>\n",
              "    <div class=\"colab-df-buttons\">\n",
              "\n",
              "  <div class=\"colab-df-container\">\n",
              "    <button class=\"colab-df-convert\" onclick=\"convertToInteractive('df-bce3f8ce-5e96-4e40-9e66-abf57fc45d04')\"\n",
              "            title=\"Convert this dataframe to an interactive table.\"\n",
              "            style=\"display:none;\">\n",
              "\n",
              "  <svg xmlns=\"http://www.w3.org/2000/svg\" height=\"24px\" viewBox=\"0 -960 960 960\">\n",
              "    <path d=\"M120-120v-720h720v720H120Zm60-500h600v-160H180v160Zm220 220h160v-160H400v160Zm0 220h160v-160H400v160ZM180-400h160v-160H180v160Zm440 0h160v-160H620v160ZM180-180h160v-160H180v160Zm440 0h160v-160H620v160Z\"/>\n",
              "  </svg>\n",
              "    </button>\n",
              "\n",
              "  <style>\n",
              "    .colab-df-container {\n",
              "      display:flex;\n",
              "      gap: 12px;\n",
              "    }\n",
              "\n",
              "    .colab-df-convert {\n",
              "      background-color: #E8F0FE;\n",
              "      border: none;\n",
              "      border-radius: 50%;\n",
              "      cursor: pointer;\n",
              "      display: none;\n",
              "      fill: #1967D2;\n",
              "      height: 32px;\n",
              "      padding: 0 0 0 0;\n",
              "      width: 32px;\n",
              "    }\n",
              "\n",
              "    .colab-df-convert:hover {\n",
              "      background-color: #E2EBFA;\n",
              "      box-shadow: 0px 1px 2px rgba(60, 64, 67, 0.3), 0px 1px 3px 1px rgba(60, 64, 67, 0.15);\n",
              "      fill: #174EA6;\n",
              "    }\n",
              "\n",
              "    .colab-df-buttons div {\n",
              "      margin-bottom: 4px;\n",
              "    }\n",
              "\n",
              "    [theme=dark] .colab-df-convert {\n",
              "      background-color: #3B4455;\n",
              "      fill: #D2E3FC;\n",
              "    }\n",
              "\n",
              "    [theme=dark] .colab-df-convert:hover {\n",
              "      background-color: #434B5C;\n",
              "      box-shadow: 0px 1px 3px 1px rgba(0, 0, 0, 0.15);\n",
              "      filter: drop-shadow(0px 1px 2px rgba(0, 0, 0, 0.3));\n",
              "      fill: #FFFFFF;\n",
              "    }\n",
              "  </style>\n",
              "\n",
              "    <script>\n",
              "      const buttonEl =\n",
              "        document.querySelector('#df-bce3f8ce-5e96-4e40-9e66-abf57fc45d04 button.colab-df-convert');\n",
              "      buttonEl.style.display =\n",
              "        google.colab.kernel.accessAllowed ? 'block' : 'none';\n",
              "\n",
              "      async function convertToInteractive(key) {\n",
              "        const element = document.querySelector('#df-bce3f8ce-5e96-4e40-9e66-abf57fc45d04');\n",
              "        const dataTable =\n",
              "          await google.colab.kernel.invokeFunction('convertToInteractive',\n",
              "                                                    [key], {});\n",
              "        if (!dataTable) return;\n",
              "\n",
              "        const docLinkHtml = 'Like what you see? Visit the ' +\n",
              "          '<a target=\"_blank\" href=https://colab.research.google.com/notebooks/data_table.ipynb>data table notebook</a>'\n",
              "          + ' to learn more about interactive tables.';\n",
              "        element.innerHTML = '';\n",
              "        dataTable['output_type'] = 'display_data';\n",
              "        await google.colab.output.renderOutput(dataTable, element);\n",
              "        const docLink = document.createElement('div');\n",
              "        docLink.innerHTML = docLinkHtml;\n",
              "        element.appendChild(docLink);\n",
              "      }\n",
              "    </script>\n",
              "  </div>\n",
              "\n",
              "\n",
              "    <div id=\"df-8a71984d-9ff4-4dc7-9eb9-4e393e0eb8a4\">\n",
              "      <button class=\"colab-df-quickchart\" onclick=\"quickchart('df-8a71984d-9ff4-4dc7-9eb9-4e393e0eb8a4')\"\n",
              "                title=\"Suggest charts\"\n",
              "                style=\"display:none;\">\n",
              "\n",
              "<svg xmlns=\"http://www.w3.org/2000/svg\" height=\"24px\"viewBox=\"0 0 24 24\"\n",
              "     width=\"24px\">\n",
              "    <g>\n",
              "        <path d=\"M19 3H5c-1.1 0-2 .9-2 2v14c0 1.1.9 2 2 2h14c1.1 0 2-.9 2-2V5c0-1.1-.9-2-2-2zM9 17H7v-7h2v7zm4 0h-2V7h2v10zm4 0h-2v-4h2v4z\"/>\n",
              "    </g>\n",
              "</svg>\n",
              "      </button>\n",
              "\n",
              "<style>\n",
              "  .colab-df-quickchart {\n",
              "      --bg-color: #E8F0FE;\n",
              "      --fill-color: #1967D2;\n",
              "      --hover-bg-color: #E2EBFA;\n",
              "      --hover-fill-color: #174EA6;\n",
              "      --disabled-fill-color: #AAA;\n",
              "      --disabled-bg-color: #DDD;\n",
              "  }\n",
              "\n",
              "  [theme=dark] .colab-df-quickchart {\n",
              "      --bg-color: #3B4455;\n",
              "      --fill-color: #D2E3FC;\n",
              "      --hover-bg-color: #434B5C;\n",
              "      --hover-fill-color: #FFFFFF;\n",
              "      --disabled-bg-color: #3B4455;\n",
              "      --disabled-fill-color: #666;\n",
              "  }\n",
              "\n",
              "  .colab-df-quickchart {\n",
              "    background-color: var(--bg-color);\n",
              "    border: none;\n",
              "    border-radius: 50%;\n",
              "    cursor: pointer;\n",
              "    display: none;\n",
              "    fill: var(--fill-color);\n",
              "    height: 32px;\n",
              "    padding: 0;\n",
              "    width: 32px;\n",
              "  }\n",
              "\n",
              "  .colab-df-quickchart:hover {\n",
              "    background-color: var(--hover-bg-color);\n",
              "    box-shadow: 0 1px 2px rgba(60, 64, 67, 0.3), 0 1px 3px 1px rgba(60, 64, 67, 0.15);\n",
              "    fill: var(--button-hover-fill-color);\n",
              "  }\n",
              "\n",
              "  .colab-df-quickchart-complete:disabled,\n",
              "  .colab-df-quickchart-complete:disabled:hover {\n",
              "    background-color: var(--disabled-bg-color);\n",
              "    fill: var(--disabled-fill-color);\n",
              "    box-shadow: none;\n",
              "  }\n",
              "\n",
              "  .colab-df-spinner {\n",
              "    border: 2px solid var(--fill-color);\n",
              "    border-color: transparent;\n",
              "    border-bottom-color: var(--fill-color);\n",
              "    animation:\n",
              "      spin 1s steps(1) infinite;\n",
              "  }\n",
              "\n",
              "  @keyframes spin {\n",
              "    0% {\n",
              "      border-color: transparent;\n",
              "      border-bottom-color: var(--fill-color);\n",
              "      border-left-color: var(--fill-color);\n",
              "    }\n",
              "    20% {\n",
              "      border-color: transparent;\n",
              "      border-left-color: var(--fill-color);\n",
              "      border-top-color: var(--fill-color);\n",
              "    }\n",
              "    30% {\n",
              "      border-color: transparent;\n",
              "      border-left-color: var(--fill-color);\n",
              "      border-top-color: var(--fill-color);\n",
              "      border-right-color: var(--fill-color);\n",
              "    }\n",
              "    40% {\n",
              "      border-color: transparent;\n",
              "      border-right-color: var(--fill-color);\n",
              "      border-top-color: var(--fill-color);\n",
              "    }\n",
              "    60% {\n",
              "      border-color: transparent;\n",
              "      border-right-color: var(--fill-color);\n",
              "    }\n",
              "    80% {\n",
              "      border-color: transparent;\n",
              "      border-right-color: var(--fill-color);\n",
              "      border-bottom-color: var(--fill-color);\n",
              "    }\n",
              "    90% {\n",
              "      border-color: transparent;\n",
              "      border-bottom-color: var(--fill-color);\n",
              "    }\n",
              "  }\n",
              "</style>\n",
              "\n",
              "      <script>\n",
              "        async function quickchart(key) {\n",
              "          const quickchartButtonEl =\n",
              "            document.querySelector('#' + key + ' button');\n",
              "          quickchartButtonEl.disabled = true;  // To prevent multiple clicks.\n",
              "          quickchartButtonEl.classList.add('colab-df-spinner');\n",
              "          try {\n",
              "            const charts = await google.colab.kernel.invokeFunction(\n",
              "                'suggestCharts', [key], {});\n",
              "          } catch (error) {\n",
              "            console.error('Error during call to suggestCharts:', error);\n",
              "          }\n",
              "          quickchartButtonEl.classList.remove('colab-df-spinner');\n",
              "          quickchartButtonEl.classList.add('colab-df-quickchart-complete');\n",
              "        }\n",
              "        (() => {\n",
              "          let quickchartButtonEl =\n",
              "            document.querySelector('#df-8a71984d-9ff4-4dc7-9eb9-4e393e0eb8a4 button');\n",
              "          quickchartButtonEl.style.display =\n",
              "            google.colab.kernel.accessAllowed ? 'block' : 'none';\n",
              "        })();\n",
              "      </script>\n",
              "    </div>\n",
              "\n",
              "    </div>\n",
              "  </div>\n"
            ],
            "application/vnd.google.colaboratory.intrinsic+json": {
              "type": "dataframe"
            }
          },
          "metadata": {}
        }
      ]
    },
    {
      "cell_type": "markdown",
      "source": [
        "# Outlier finding"
      ],
      "metadata": {
        "id": "usPAjKx6_oJr"
      }
    },
    {
      "cell_type": "code",
      "source": [
        "columns=improved_laptop_continous.columns\n",
        "improved_laptop_continous = scaler.inverse_transform(improved_laptop_continous)\n",
        "improved_laptop_continous = pd.DataFrame(improved_laptop_continous, columns=columns )"
      ],
      "metadata": {
        "id": "yZznam22-Z1n"
      },
      "execution_count": 31,
      "outputs": []
    },
    {
      "cell_type": "code",
      "source": [
        "improved_laptop_continous.boxplot(column='Inches')"
      ],
      "metadata": {
        "colab": {
          "base_uri": "https://localhost:8080/",
          "height": 448
        },
        "id": "ZzUXUZCC9Ydc",
        "outputId": "6dde5914-59b1-4ddd-9602-59978f182020"
      },
      "execution_count": 32,
      "outputs": [
        {
          "output_type": "execute_result",
          "data": {
            "text/plain": [
              "<Axes: >"
            ]
          },
          "metadata": {},
          "execution_count": 32
        },
        {
          "output_type": "display_data",
          "data": {
            "text/plain": [
              "<Figure size 640x480 with 1 Axes>"
            ],
            "image/png": "[encoded data removed]"
          },
          "metadata": {}
        }
      ]
    },
    {
      "cell_type": "code",
      "source": [
        "improved_laptop_continous.boxplot(column='Ram')"
      ],
      "metadata": {
        "colab": {
          "base_uri": "https://localhost:8080/",
          "height": 448
        },
        "id": "_bIiZf8G9-dq",
        "outputId": "49c69693-2be2-4b5f-ebdf-bd8a8288f104"
      },
      "execution_count": 33,
      "outputs": [
        {
          "output_type": "execute_result",
          "data": {
            "text/plain": [
              "<Axes: >"
            ]
          },
          "metadata": {},
          "execution_count": 33
        },
        {
          "output_type": "display_data",
          "data": {
            "text/plain": [
              "<Figure size 640x480 with 1 Axes>"
            ],
            "image/png": "[encoded data removed]"
          },
          "metadata": {}
        }
      ]
    },
    {
      "cell_type": "code",
      "source": [
        "improved_laptop_continous.boxplot(column='Weight')"
      ],
      "metadata": {
        "colab": {
          "base_uri": "https://localhost:8080/",
          "height": 448
        },
        "id": "Pr2YMvOa9-3u",
        "outputId": "73243a33-ec40-42d3-d260-55484292b076"
      },
      "execution_count": 34,
      "outputs": [
        {
          "output_type": "execute_result",
          "data": {
            "text/plain": [
              "<Axes: >"
            ]
          },
          "metadata": {},
          "execution_count": 34
        },
        {
          "output_type": "display_data",
          "data": {
            "text/plain": [
              "<Figure size 640x480 with 1 Axes>"
            ],
            "image/png": "[encoded data removed]"
          },
          "metadata": {}
        }
      ]
    },
    {
      "cell_type": "code",
      "source": [
        "improved_laptop_continous.boxplot(column='ScreenW')"
      ],
      "metadata": {
        "colab": {
          "base_uri": "https://localhost:8080/",
          "height": 448
        },
        "id": "zbTcMtbE9_XX",
        "outputId": "87501ef5-196e-4643-913a-dd429af258e6"
      },
      "execution_count": 35,
      "outputs": [
        {
          "output_type": "execute_result",
          "data": {
            "text/plain": [
              "<Axes: >"
            ]
          },
          "metadata": {},
          "execution_count": 35
        },
        {
          "output_type": "display_data",
          "data": {
            "text/plain": [
              "<Figure size 640x480 with 1 Axes>"
            ],
            "image/png": "[encoded data removed]"
          },
          "metadata": {}
        }
      ]
    },
    {
      "cell_type": "code",
      "source": [
        "improved_laptop_continous.boxplot(column='ScreenH')"
      ],
      "metadata": {
        "colab": {
          "base_uri": "https://localhost:8080/",
          "height": 448
        },
        "id": "R2S9VlFD9__u",
        "outputId": "67b2e3aa-7583-4397-f270-1525f943ec6a"
      },
      "execution_count": 36,
      "outputs": [
        {
          "output_type": "execute_result",
          "data": {
            "text/plain": [
              "<Axes: >"
            ]
          },
          "metadata": {},
          "execution_count": 36
        },
        {
          "output_type": "display_data",
          "data": {
            "text/plain": [
              "<Figure size 640x480 with 1 Axes>"
            ],
            "image/png": "[encoded data removed]"
          },
          "metadata": {}
        }
      ]
    },
    {
      "cell_type": "markdown",
      "source": [
        "# model training"
      ],
      "metadata": {
        "id": "M4ov6JQn_qox"
      }
    },
    {
      "cell_type": "code",
      "source": [
        "lin_reg_l1 = LassoCV(cv=5, random_state=0)\n",
        "lin_reg_l1.fit(X_train, y_train)\n",
        "\n",
        "pred = lin_reg_l1.predict(X_test)\n",
        "\n",
        "print(\"\\n\")\n",
        "\n",
        "three_metrics(price_scaler.inverse_transform(y_test.reshape(-1,1)), price_scaler.inverse_transform(pred.reshape(-1,1)))"
      ],
      "metadata": {
        "id": "6V9wKi3X3I4m",
        "colab": {
          "base_uri": "https://localhost:8080/"
        },
        "outputId": "d1cbae27-3c0b-4ba1-856e-6af37d981c14"
      },
      "execution_count": 37,
      "outputs": [
        {
          "output_type": "stream",
          "name": "stderr",
          "text": [
            "/usr/local/lib/python3.11/dist-packages/sklearn/linear_model/_coordinate_descent.py:1664: DataConversionWarning: A column-vector y was passed when a 1d array was expected. Please change the shape of y to (n_samples, ), for example using ravel().\n",
            "  y = column_or_1d(y, warn=True)\n"
          ]
        },
        {
          "output_type": "stream",
          "name": "stdout",
          "text": [
            "\n",
            "\n",
            "Mean Squared Error: 162896.66031212444\n",
            "Mean Absolute Error: 275.5523792108501\n",
            "r2 score: 0.7386517032682596\n"
          ]
        }
      ]
    },
    {
      "cell_type": "code",
      "source": [
        "x = np.linspace(-5, 6000, 1000)\n",
        "y=x\n",
        "plt.scatter(price_scaler.inverse_transform(y_test.reshape(-1,1)), price_scaler.inverse_transform(pred.reshape(-1,1)) , color='blue', marker='o', label='Data')\n",
        "plt.title(\"observed vs predicted values\", fontsize=12)\n",
        "plt.xlabel(\"Observed\", fontsize=12)\n",
        "plt.ylabel(\"Predicted\", fontsize=12)\n",
        "\n",
        "plt.grid(True, linewidth=0.7, alpha=0.5)\n",
        "plt.plot(x,y)"
      ],
      "metadata": {
        "colab": {
          "base_uri": "https://localhost:8080/",
          "height": 494
        },
        "id": "MAMV4gR_4pq8",
        "outputId": "253f5dc3-cb6b-42bd-f4a9-8edb46a7ca5d"
      },
      "execution_count": 38,
      "outputs": [
        {
          "output_type": "execute_result",
          "data": {
            "text/plain": [
              "[<matplotlib.lines.Line2D at 0x7c672927bd10>]"
            ]
          },
          "metadata": {},
          "execution_count": 38
        },
        {
          "output_type": "display_data",
          "data": {
            "text/plain": [
              "<Figure size 640x480 with 1 Axes>"
            ],
            "image/png": "[encoded data removed]"
          },
          "metadata": {}
        }
      ]
    },
    {
      "cell_type": "markdown",
      "source": [
        "ridge and standard model"
      ],
      "metadata": {
        "id": "fpfgcv9IMZcX"
      }
    },
    {
      "cell_type": "code",
      "source": [
        "lin_reg_l2 = RidgeCV(alphas=[1e-3, 1e-2, 1e-1, 1, 2, 5, 10, 15, 20, 25, 50, 100])\n",
        "lin_reg_l2.fit(X_train, y_train)\n",
        "\n",
        "pred = lin_reg_l2.predict(X_test)\n",
        "\n",
        "three_metrics(price_scaler.inverse_transform(y_test.reshape(-1,1)), price_scaler.inverse_transform(pred.reshape(-1,1)))"
      ],
      "metadata": {
        "id": "tr7JKVJ7GHp9",
        "colab": {
          "base_uri": "https://localhost:8080/"
        },
        "outputId": "92fa982e-fd07-4a88-ae21-9ea4fc60f67c"
      },
      "execution_count": 39,
      "outputs": [
        {
          "output_type": "stream",
          "name": "stdout",
          "text": [
            "Mean Squared Error: 161762.686067735\n",
            "Mean Absolute Error: 272.53769969876595\n",
            "r2 score: 0.7404710299305803\n"
          ]
        }
      ]
    },
    {
      "cell_type": "code",
      "source": [
        "x = np.linspace(-5, 6000, 1000)\n",
        "y=x\n",
        "plt.scatter(price_scaler.inverse_transform(y_test.reshape(-1,1)), price_scaler.inverse_transform(pred.reshape(-1,1)) , color='blue', marker='o', label='Data')\n",
        "plt.title(\"observed vs predicted values\", fontsize=12)\n",
        "plt.xlabel(\"Observed\", fontsize=12)\n",
        "plt.ylabel(\"Predicted\", fontsize=12)\n",
        "\n",
        "plt.grid(True, linewidth=0.7, alpha=0.5)\n",
        "plt.plot(x,y)"
      ],
      "metadata": {
        "colab": {
          "base_uri": "https://localhost:8080/",
          "height": 494
        },
        "id": "Xa6u5Sxw4ql-",
        "outputId": "694e918e-e23a-42b2-d37a-0a3d77a47674"
      },
      "execution_count": 40,
      "outputs": [
        {
          "output_type": "execute_result",
          "data": {
            "text/plain": [
              "[<matplotlib.lines.Line2D at 0x7c67292e4050>]"
            ]
          },
          "metadata": {},
          "execution_count": 40
        },
        {
          "output_type": "display_data",
          "data": {
            "text/plain": [
              "<Figure size 640x480 with 1 Axes>"
            ],
            "image/png": "[encoded data removed]"
          },
          "metadata": {}
        }
      ]
    },
    {
      "cell_type": "code",
      "source": [
        "lin_reg = LinearRegression()\n",
        "lin_reg.fit(X_train, y_train)\n",
        "\n",
        "pred = lin_reg.predict(X_test)\n",
        "\n",
        "three_metrics(price_scaler.inverse_transform(y_test.reshape(-1,1)), price_scaler.inverse_transform(pred.reshape(-1,1)))"
      ],
      "metadata": {
        "id": "AasnhQfXeNsX",
        "colab": {
          "base_uri": "https://localhost:8080/"
        },
        "outputId": "a0388653-d400-4024-fae1-546d67d2609f"
      },
      "execution_count": 41,
      "outputs": [
        {
          "output_type": "stream",
          "name": "stdout",
          "text": [
            "Mean Squared Error: 164987.74054468577\n",
            "Mean Absolute Error: 276.39492319927086\n",
            "r2 score: 0.7352968140024996\n"
          ]
        }
      ]
    },
    {
      "cell_type": "code",
      "source": [
        "x = np.linspace(-5, 6000, 1000)\n",
        "y=x\n",
        "plt.scatter(price_scaler.inverse_transform(y_test.reshape(-1,1)), price_scaler.inverse_transform(pred.reshape(-1,1)) , color='blue', marker='o', label='Data')\n",
        "plt.title(\"observed vs predicted values\", fontsize=12)\n",
        "plt.xlabel(\"Observed\", fontsize=12)\n",
        "plt.ylabel(\"Predicted\", fontsize=12)\n",
        "\n",
        "plt.grid(True, linewidth=0.7, alpha=0.5)\n",
        "plt.plot(x,y)"
      ],
      "metadata": {
        "colab": {
          "base_uri": "https://localhost:8080/",
          "height": 494
        },
        "id": "8uILKwu14rDw",
        "outputId": "4695a499-9e4f-4113-c573-42274b0e7797"
      },
      "execution_count": 42,
      "outputs": [
        {
          "output_type": "execute_result",
          "data": {
            "text/plain": [
              "[<matplotlib.lines.Line2D at 0x7c6729241610>]"
            ]
          },
          "metadata": {},
          "execution_count": 42
        },
        {
          "output_type": "display_data",
          "data": {
            "text/plain": [
              "<Figure size 640x480 with 1 Axes>"
            ],
            "image/png": "[encoded data removed]"
          },
          "metadata": {}
        }
      ]
    }
  ]
}