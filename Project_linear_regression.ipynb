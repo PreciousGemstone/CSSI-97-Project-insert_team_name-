{
  "nbformat": 4,
  "nbformat_minor": 0,
  "metadata": {
    "colab": {
      "provenance": [],
      "authorship_tag": "ABX9TyNCL1ExkR9GVNj5OsjDQs34",
      "include_colab_link": true
    },
    "kernelspec": {
      "name": "python3",
      "display_name": "Python 3"
    },
    "language_info": {
      "name": "python"
    }
  },
  "cells": [
    {
      "cell_type": "markdown",
      "metadata": {
        "id": "view-in-github",
        "colab_type": "text"
      },
      "source": [
        "<a href=\"https://colab.research.google.com/github/PreciousGemstone/CSSI-97-Project-insert_team_name-/blob/main/Project_linear_regression.ipynb\" target=\"_parent\"><img src=\"https://colab.research.google.com/assets/colab-badge.svg\" alt=\"Open In Colab\"/></a>"
      ]
    },
    {
      "cell_type": "code",
      "execution_count": 1,
      "metadata": {
        "id": "rvPwCuPoKA9y"
      },
      "outputs": [],
      "source": [
        "import numpy as np\n",
        "import pandas as pd\n",
        "import sklearn\n",
        "from sklearn.model_selection import train_test_split\n",
        "from sklearn.linear_model import LinearRegression\n",
        "from sklearn.metrics import mean_squared_error, r2_score, mean_absolute_error\n",
        "from sklearn import linear_model\n",
        "from sklearn.linear_model import LassoCV\n",
        "from sklearn.linear_model import RidgeCV\n",
        "from sklearn.preprocessing import StandardScaler"
      ]
    },
    {
      "cell_type": "code",
      "source": [
        "def three_metrics(y_test, y_pred):\n",
        "\n",
        "  mse = mean_squared_error(y_test, y_pred)\n",
        "  mae = mean_absolute_error(y_test, y_pred)\n",
        "  r2 = r2_score(y_test, y_pred)\n",
        "\n",
        "\n",
        "  print(\"Mean Squared Error: \" + str(mse))\n",
        "  print(\"Mean Absolute Error: \" + str(mae))\n",
        "  print(\"r2 score: \" + str(r2))"
      ],
      "metadata": {
        "id": "I6IwSpso6V1t"
      },
      "execution_count": 2,
      "outputs": []
    },
    {
      "cell_type": "code",
      "source": [
        "#@title get_data function\n",
        "def get_data():\n",
        "  data = 'https://raw.githubusercontent.com/PreciousGemstone/CSSI-97-Project-insert_team_name-/refs/heads/main/laptop_prices.csv'\n",
        "  laptop = pd.read_csv(data)\n",
        "  #AI helped write this code\n",
        "\n",
        "  def categorize_cpu(cpu_model):\n",
        "      if isinstance(cpu_model, str):\n",
        "          cpu_model_lower = cpu_model.lower()\n",
        "          if 'core i7' in cpu_model_lower:\n",
        "              return 'Core i7'\n",
        "          elif 'core i5' in cpu_model_lower:\n",
        "              return 'Core i5'\n",
        "          elif 'core i3' in cpu_model_lower:\n",
        "              return 'Core i3'\n",
        "          elif 'ryzen' in cpu_model_lower:\n",
        "              return 'Ryzen'\n",
        "          elif 'celeron' in cpu_model_lower:\n",
        "              return 'Celeron'\n",
        "          elif 'atom' in cpu_model_lower:\n",
        "              return 'Atom'\n",
        "          elif 'xeon' in cpu_model_lower:\n",
        "              return 'Xeon'\n",
        "          elif 'a' in cpu_model_lower and '-series' in cpu_model_lower:\n",
        "              return 'A-Series'\n",
        "          elif 'e' in cpu_model_lower and '-series' in cpu_model_lower:\n",
        "              return 'E-Series'\n",
        "          elif 'fx' in cpu_model_lower:\n",
        "              return 'FX-Series'\n",
        "          elif 'pentium' in cpu_model_lower:\n",
        "              return 'Pentium'\n",
        "          elif 'core m' in cpu_model_lower:\n",
        "              return 'Core M'\n",
        "          elif 'cortex' in cpu_model_lower:\n",
        "              return 'Cortex'\n",
        "          else:\n",
        "              return 'Other'\n",
        "      return 'Unknown'\n",
        "\n",
        "  laptop['CPU_categories'] = laptop['CPU_model'].apply(categorize_cpu)\n",
        "\n",
        "  def categorize_gpu(gpu_model):\n",
        "      if isinstance(gpu_model, str):\n",
        "          gpu_model_lower = gpu_model.lower()\n",
        "          if 'geforce gtx' in gpu_model_lower:\n",
        "              return 'Nvidia GeForce GTX'\n",
        "          elif 'geforce mx' in gpu_model_lower:\n",
        "              return 'Nvidia GeForce MX'\n",
        "          elif 'geforce' in gpu_model_lower:\n",
        "              return 'Nvidia GeForce'\n",
        "          elif 'quadro' in gpu_model_lower:\n",
        "              return 'Nvidia Quadro'\n",
        "          elif 'nvidia' in gpu_model_lower:\n",
        "              return 'Nvidia (Other)'\n",
        "          elif 'radeon pro' in gpu_model_lower:\n",
        "              return 'AMD Radeon Pro'\n",
        "          elif 'radeon' in gpu_model_lower:\n",
        "              return 'AMD Radeon'\n",
        "          elif 'amd' in gpu_model_lower:\n",
        "              return 'AMD (Other)'\n",
        "          elif 'iris plus graphics' in gpu_model_lower:\n",
        "              return 'Intel Iris Plus'\n",
        "          elif 'hd graphics' in gpu_model_lower:\n",
        "              return 'Intel HD Graphics'\n",
        "          elif 'intel' in gpu_model_lower or 'graphics' in gpu_model_lower:\n",
        "              return 'Intel (Other)'\n",
        "          else:\n",
        "              return 'Other'\n",
        "      return 'Unknown'\n",
        "\n",
        "  laptop['GPU_categories'] = laptop['GPU_model'].apply(categorize_gpu)\n",
        "\n",
        "  #No more AI after this\n",
        "\n",
        "  improved_laptop=laptop.drop(['CPU_model','GPU_model'],axis=1)\n",
        "  improved_laptop=improved_laptop.drop(['Product','Company','TypeName','OS', 'CPU_company', 'GPU_company'],axis=1)\n",
        "\n",
        "  improved_laptop = pd.get_dummies(improved_laptop, columns=['CPU_categories','GPU_categories', 'Touchscreen', 'PrimaryStorageType','SecondaryStorageType',\n",
        "                                                           'Screen', 'RetinaDisplay','IPSpanel'], drop_first=True, dtype=int)\n",
        "\n",
        "  laptop_prices = improved_laptop[['Price_euros']]\n",
        "  improved_laptop_features = improved_laptop.drop('Price_euros', axis=1)\n",
        "\n",
        "\n",
        "  improved_laptop_onehot = improved_laptop_features.drop(['Inches', 'Ram', 'Weight', 'ScreenW', 'ScreenH',\n",
        "                                                'CPU_freq', 'PrimaryStorage', 'SecondaryStorage'],axis=1)\n",
        "  improved_laptop_continous = improved_laptop_features[['Inches', 'Ram', 'Weight', 'ScreenW', 'ScreenH',\n",
        "                                                'CPU_freq', 'PrimaryStorage', 'SecondaryStorage']]\n",
        "\n",
        "  scaler = StandardScaler()\n",
        "  price_scaler = StandardScaler()\n",
        "\n",
        "  improved_laptop_continous_scaled = scaler.fit_transform(improved_laptop_continous)\n",
        "  laptop_prices_scaled = price_scaler.fit_transform(laptop_prices)\n",
        "\n",
        "  improved_laptop_continous = pd.DataFrame(improved_laptop_continous_scaled, columns= improved_laptop_continous.columns)\n",
        "  laptop_prices = pd.DataFrame(laptop_prices_scaled, columns= laptop_prices.columns)\n",
        "\n",
        "  improved_laptop = pd.concat([improved_laptop_continous, improved_laptop_onehot], axis=1)\n",
        "\n",
        "  X, y = improved_laptop_features.values, laptop_prices.values\n",
        "  X_train, X_test, y_train, y_test = train_test_split(X, y, test_size = 0.2, random_state = 30)\n",
        "  return(X_train, X_test, y_train, y_test, scaler, price_scaler, improved_laptop)"
      ],
      "metadata": {
        "id": "Puacn7cQMK0_"
      },
      "execution_count": 3,
      "outputs": []
    },
    {
      "cell_type": "code",
      "source": [
        "X_train, X_test, y_train, y_test, scaler, price_scaler, improved_laptop = get_data()"
      ],
      "metadata": {
        "id": "15egx-kyMnSF"
      },
      "execution_count": 4,
      "outputs": []
    },
    {
      "cell_type": "code",
      "source": [
        "lin_reg_l1 = LassoCV(cv=5, random_state=0)\n",
        "lin_reg_l1.fit(X_train, y_train)\n",
        "\n",
        "pred = lin_reg_l1.predict(X_test)\n",
        "\n",
        "#print(lin_reg_l1.coef_)\n",
        "#print(lin_reg_l1.intercept_)\n",
        "print(\"\\n\")\n",
        "\n",
        "three_metrics(price_scaler.inverse_transform(y_test.reshape(-1,1)), price_scaler.inverse_transform(pred.reshape(-1,1)))"
      ],
      "metadata": {
        "id": "6V9wKi3X3I4m",
        "colab": {
          "base_uri": "https://localhost:8080/"
        },
        "outputId": "ebac257f-dc47-4698-e642-2e1adfad40b8"
      },
      "execution_count": 5,
      "outputs": [
        {
          "output_type": "stream",
          "name": "stderr",
          "text": [
            "/usr/local/lib/python3.11/dist-packages/sklearn/linear_model/_coordinate_descent.py:1664: DataConversionWarning: A column-vector y was passed when a 1d array was expected. Please change the shape of y to (n_samples, ), for example using ravel().\n",
            "  y = column_or_1d(y, warn=True)\n"
          ]
        },
        {
          "output_type": "stream",
          "name": "stdout",
          "text": [
            "\n",
            "\n",
            "Mean Squared Error: 217238.9323869659\n",
            "Mean Absolute Error: 324.14786649748646\n",
            "r2 score: 0.651465997802722\n"
          ]
        }
      ]
    },
    {
      "cell_type": "markdown",
      "source": [
        "ridge and standard model"
      ],
      "metadata": {
        "id": "fpfgcv9IMZcX"
      }
    },
    {
      "cell_type": "code",
      "source": [
        "lin_reg_l2 = RidgeCV(alphas=[1e-3, 1e-2, 1e-1, 1, 2, 5, 10, 15, 20, 25, 50, 100])\n",
        "lin_reg_l2.fit(X_train, y_train)\n",
        "\n",
        "pred = lin_reg_l2.predict(X_test)\n",
        "\n",
        "three_metrics(price_scaler.inverse_transform(y_test.reshape(-1,1)), price_scaler.inverse_transform(pred.reshape(-1,1)))"
      ],
      "metadata": {
        "id": "tr7JKVJ7GHp9",
        "colab": {
          "base_uri": "https://localhost:8080/"
        },
        "outputId": "bb3fd9c5-167d-4dae-f642-0b1bae7e662a"
      },
      "execution_count": 6,
      "outputs": [
        {
          "output_type": "stream",
          "name": "stdout",
          "text": [
            "Mean Squared Error: 161816.47270769332\n",
            "Mean Absolute Error: 272.5645461375403\n",
            "r2 score: 0.7403847356706913\n"
          ]
        }
      ]
    },
    {
      "cell_type": "code",
      "source": [
        "lin_reg = LinearRegression()\n",
        "lin_reg.fit(X_train, y_train)\n",
        "\n",
        "pred = lin_reg.predict(X_test)\n",
        "\n",
        "three_metrics(price_scaler.inverse_transform(y_test.reshape(-1,1)), price_scaler.inverse_transform(pred.reshape(-1,1)))"
      ],
      "metadata": {
        "id": "AasnhQfXeNsX",
        "colab": {
          "base_uri": "https://localhost:8080/"
        },
        "outputId": "18bfc966-6624-45ee-e4e0-9d5cd2a8367b"
      },
      "execution_count": 7,
      "outputs": [
        {
          "output_type": "stream",
          "name": "stdout",
          "text": [
            "Mean Squared Error: 164987.74054468825\n",
            "Mean Absolute Error: 276.394923199273\n",
            "r2 score: 0.7352968140024956\n"
          ]
        }
      ]
    }
  ]
}