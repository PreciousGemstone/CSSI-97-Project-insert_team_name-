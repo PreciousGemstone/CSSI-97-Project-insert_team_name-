{
  "nbformat": 4,
  "nbformat_minor": 0,
  "metadata": {
    "colab": {
      "provenance": [],
      "authorship_tag": "ABX9TyOaIUOkKNcjksTz6r4Ch/95",
      "include_colab_link": true
    },
    "kernelspec": {
      "name": "python3",
      "display_name": "Python 3"
    },
    "language_info": {
      "name": "python"
    }
  },
  "cells": [
    {
      "cell_type": "markdown",
      "metadata": {
        "id": "view-in-github",
        "colab_type": "text"
      },
      "source": [
        "<a href=\"https://colab.research.google.com/github/PreciousGemstone/CSSI-97-Project-insert_team_name-/blob/main/Project_linear_regression.ipynb\" target=\"_parent\"><img src=\"https://colab.research.google.com/assets/colab-badge.svg\" alt=\"Open In Colab\"/></a>"
      ]
    },
    {
      "cell_type": "code",
      "execution_count": 184,
      "metadata": {
        "id": "rvPwCuPoKA9y"
      },
      "outputs": [],
      "source": [
        "import numpy as np\n",
        "import pandas as pd\n",
        "import sklearn\n",
        "from sklearn.model_selection import train_test_split\n",
        "from sklearn.linear_model import LinearRegression\n",
        "from sklearn.metrics import mean_squared_error, r2_score, mean_absolute_error\n",
        "from sklearn import linear_model\n",
        "from sklearn.linear_model import LassoCV\n",
        "from sklearn.linear_model import RidgeCV\n",
        "from sklearn.preprocessing import StandardScaler"
      ]
    },
    {
      "cell_type": "code",
      "source": [
        "def three_metrics(y_test, y_pred):\n",
        "\n",
        "  mse = mean_squared_error(y_test, y_pred)\n",
        "  mae = mean_absolute_error(y_test, y_pred)\n",
        "  r2 = r2_score(y_test, y_pred)\n",
        "\n",
        "\n",
        "  print(\"Mean Squared Error: \" + str(mse))\n",
        "  print(\"Mean Absolute Error: \" + str(mae))\n",
        "  print(\"r2 score: \" + str(r2))"
      ],
      "metadata": {
        "id": "I6IwSpso6V1t"
      },
      "execution_count": 185,
      "outputs": []
    },
    {
      "cell_type": "code",
      "source": [
        "data = 'https://raw.githubusercontent.com/PreciousGemstone/CSSI-97-Project-insert_team_name-/refs/heads/main/laptop_prices.csv'\n",
        "laptop = pd.read_csv(data)\n",
        "\n",
        "X_train_data = 'https://raw.githubusercontent.com/PreciousGemstone/CSSI-97-Project-insert_team_name-/refs/heads/main/X_train.csv'\n",
        "X_train = pd.read_csv(X_train_data)\n",
        "\n",
        "X_test_data = 'https://raw.githubusercontent.com/PreciousGemstone/CSSI-97-Project-insert_team_name-/refs/heads/main/X_test.csv'\n",
        "X_test = pd.read_csv(X_test_data)\n",
        "\n",
        "y_train_data = 'https://raw.githubusercontent.com/PreciousGemstone/CSSI-97-Project-insert_team_name-/refs/heads/main/y_train.csv'\n",
        "y_train = pd.read_csv(y_train_data)\n",
        "\n",
        "y_test_data = 'https://raw.githubusercontent.com/PreciousGemstone/CSSI-97-Project-insert_team_name-/refs/heads/main/y_test.csv'\n",
        "y_test = pd.read_csv(y_test_data)"
      ],
      "metadata": {
        "id": "5eB59vu1HYFc"
      },
      "execution_count": 186,
      "outputs": []
    },
    {
      "cell_type": "markdown",
      "source": [
        "lasso model"
      ],
      "metadata": {
        "id": "v3NGNYtQMWcB"
      }
    },
    {
      "cell_type": "code",
      "source": [
        "lin_reg_l1 = LassoCV(cv=5, random_state=0)\n",
        "lin_reg_l1.fit(X_train, y_train)\n",
        "\n",
        "pred = lin_reg_l1.predict(X_test)\n",
        "\n",
        "#print(lin_reg_l1.coef_)\n",
        "#print(lin_reg_l1.intercept_)\n",
        "print(\"\\n\")\n",
        "\n",
        "three_metrics(y_test, pred)"
      ],
      "metadata": {
        "id": "6V9wKi3X3I4m",
        "colab": {
          "base_uri": "https://localhost:8080/"
        },
        "outputId": "5df095fd-7b03-4c6c-df63-c1a3f9325bd1"
      },
      "execution_count": 187,
      "outputs": [
        {
          "output_type": "stream",
          "name": "stdout",
          "text": [
            "\n",
            "\n",
            "Mean Squared Error: 0.44274034561875103\n",
            "Mean Absolute Error: 0.46275262121707517\n",
            "r2 score: 0.651465997802722\n"
          ]
        }
      ]
    },
    {
      "cell_type": "code",
      "source": [
        "'''improved_laptop_features_post_lasso = improved_laptop_features.drop(['Inches','Weight','CPU_freq','CPU_categories_Atom',\n",
        "       'CPU_categories_Celeron', 'CPU_categories_Core M',\n",
        "       'CPU_categories_Core i3', 'CPU_categories_Core i5',\n",
        "       'CPU_categories_Core i7', 'CPU_categories_Cortex',\n",
        "       'CPU_categories_E-Series', 'CPU_categories_FX-Series',\n",
        "       'CPU_categories_Pentium', 'CPU_categories_Ryzen', 'CPU_categories_Xeon',\n",
        "       'GPU_categories_AMD Radeon Pro', 'GPU_categories_Intel (Other)',\n",
        "       'GPU_categories_Intel HD Graphics', 'GPU_categories_Intel Iris Plus',\n",
        "       'GPU_categories_Nvidia GeForce', 'GPU_categories_Nvidia GeForce GTX',\n",
        "       'GPU_categories_Nvidia GeForce MX', 'GPU_categories_Nvidia Quadro',\n",
        "       'GPU_categories_Other', 'Touchscreen_Yes', 'PrimaryStorageType_HDD',\n",
        "       'PrimaryStorageType_Hybrid', 'PrimaryStorageType_SSD',\n",
        "       'SecondaryStorageType_Hybrid', 'SecondaryStorageType_No',\n",
        "       'SecondaryStorageType_SSD', 'Screen_Full HD', 'Screen_Quad HD+',\n",
        "       'Screen_Standard', 'RetinaDisplay_Yes', 'IPSpanel_Yes'],axis=1)'''"
      ],
      "metadata": {
        "id": "Imu0KSez-1lb",
        "colab": {
          "base_uri": "https://localhost:8080/",
          "height": 127
        },
        "outputId": "4791839e-bc30-494f-ae8b-f8c19be82bd8"
      },
      "execution_count": 188,
      "outputs": [
        {
          "output_type": "execute_result",
          "data": {
            "text/plain": [
              "\"improved_laptop_features_post_lasso = improved_laptop_features.drop(['Inches','Weight','CPU_freq','CPU_categories_Atom',\\n       'CPU_categories_Celeron', 'CPU_categories_Core M',\\n       'CPU_categories_Core i3', 'CPU_categories_Core i5',\\n       'CPU_categories_Core i7', 'CPU_categories_Cortex',\\n       'CPU_categories_E-Series', 'CPU_categories_FX-Series',\\n       'CPU_categories_Pentium', 'CPU_categories_Ryzen', 'CPU_categories_Xeon',\\n       'GPU_categories_AMD Radeon Pro', 'GPU_categories_Intel (Other)',\\n       'GPU_categories_Intel HD Graphics', 'GPU_categories_Intel Iris Plus',\\n       'GPU_categories_Nvidia GeForce', 'GPU_categories_Nvidia GeForce GTX',\\n       'GPU_categories_Nvidia GeForce MX', 'GPU_categories_Nvidia Quadro',\\n       'GPU_categories_Other', 'Touchscreen_Yes', 'PrimaryStorageType_HDD',\\n       'PrimaryStorageType_Hybrid', 'PrimaryStorageType_SSD',\\n       'SecondaryStorageType_Hybrid', 'SecondaryStorageType_No',\\n       'SecondaryStorageType_SSD', 'Screen_Full HD', 'Screen_Quad HD+',\\n       'Screen_Standard', 'RetinaDisplay_Yes', 'IPSpanel_Yes'],axis=1)\""
            ],
            "application/vnd.google.colaboratory.intrinsic+json": {
              "type": "string"
            }
          },
          "metadata": {},
          "execution_count": 188
        }
      ]
    },
    {
      "cell_type": "markdown",
      "source": [
        "ridge and standard model"
      ],
      "metadata": {
        "id": "fpfgcv9IMZcX"
      }
    },
    {
      "cell_type": "code",
      "source": [
        "lin_reg_ridge = RidgeCV(alphas=[1e-3, 1e-2, 1e-1, 1, 2, 5, 10, 15, 20, 25, 50, 100])\n",
        "lin_reg_ridge.fit(X_train, y_train)\n",
        "\n",
        "pred = lin_reg_ridge.predict(X_test)\n",
        "\n",
        "three_metrics(price_scaler.inverse_transform(y_test.reshape(-1,1)), price_scaler.inverse_transform(pred.reshape(-1,1)))"
      ],
      "metadata": {
        "id": "tr7JKVJ7GHp9",
        "colab": {
          "base_uri": "https://localhost:8080/",
          "height": 309
        },
        "outputId": "d76fdd57-aaf9-4a72-afad-535c25060afa"
      },
      "execution_count": 189,
      "outputs": [
        {
          "output_type": "error",
          "ename": "AttributeError",
          "evalue": "'DataFrame' object has no attribute 'reshape'",
          "traceback": [
            "\u001b[0;31m---------------------------------------------------------------------------\u001b[0m",
            "\u001b[0;31mAttributeError\u001b[0m                            Traceback (most recent call last)",
            "\u001b[0;32m/tmp/ipython-input-189-2785369706.py\u001b[0m in \u001b[0;36m<cell line: 0>\u001b[0;34m()\u001b[0m\n\u001b[1;32m      4\u001b[0m \u001b[0mpred\u001b[0m \u001b[0;34m=\u001b[0m \u001b[0mlin_reg_ridge\u001b[0m\u001b[0;34m.\u001b[0m\u001b[0mpredict\u001b[0m\u001b[0;34m(\u001b[0m\u001b[0mX_test\u001b[0m\u001b[0;34m)\u001b[0m\u001b[0;34m\u001b[0m\u001b[0;34m\u001b[0m\u001b[0m\n\u001b[1;32m      5\u001b[0m \u001b[0;34m\u001b[0m\u001b[0m\n\u001b[0;32m----> 6\u001b[0;31m \u001b[0mthree_metrics\u001b[0m\u001b[0;34m(\u001b[0m\u001b[0mprice_scaler\u001b[0m\u001b[0;34m.\u001b[0m\u001b[0minverse_transform\u001b[0m\u001b[0;34m(\u001b[0m\u001b[0my_test\u001b[0m\u001b[0;34m.\u001b[0m\u001b[0mreshape\u001b[0m\u001b[0;34m(\u001b[0m\u001b[0;34m-\u001b[0m\u001b[0;36m1\u001b[0m\u001b[0;34m,\u001b[0m\u001b[0;36m1\u001b[0m\u001b[0;34m)\u001b[0m\u001b[0;34m)\u001b[0m\u001b[0;34m,\u001b[0m \u001b[0mprice_scaler\u001b[0m\u001b[0;34m.\u001b[0m\u001b[0minverse_transform\u001b[0m\u001b[0;34m(\u001b[0m\u001b[0mpred\u001b[0m\u001b[0;34m.\u001b[0m\u001b[0mreshape\u001b[0m\u001b[0;34m(\u001b[0m\u001b[0;34m-\u001b[0m\u001b[0;36m1\u001b[0m\u001b[0;34m,\u001b[0m\u001b[0;36m1\u001b[0m\u001b[0;34m)\u001b[0m\u001b[0;34m)\u001b[0m\u001b[0;34m)\u001b[0m\u001b[0;34m\u001b[0m\u001b[0;34m\u001b[0m\u001b[0m\n\u001b[0m",
            "\u001b[0;32m/usr/local/lib/python3.11/dist-packages/pandas/core/generic.py\u001b[0m in \u001b[0;36m__getattr__\u001b[0;34m(self, name)\u001b[0m\n\u001b[1;32m   6297\u001b[0m         ):\n\u001b[1;32m   6298\u001b[0m             \u001b[0;32mreturn\u001b[0m \u001b[0mself\u001b[0m\u001b[0;34m[\u001b[0m\u001b[0mname\u001b[0m\u001b[0;34m]\u001b[0m\u001b[0;34m\u001b[0m\u001b[0;34m\u001b[0m\u001b[0m\n\u001b[0;32m-> 6299\u001b[0;31m         \u001b[0;32mreturn\u001b[0m \u001b[0mobject\u001b[0m\u001b[0;34m.\u001b[0m\u001b[0m__getattribute__\u001b[0m\u001b[0;34m(\u001b[0m\u001b[0mself\u001b[0m\u001b[0;34m,\u001b[0m \u001b[0mname\u001b[0m\u001b[0;34m)\u001b[0m\u001b[0;34m\u001b[0m\u001b[0;34m\u001b[0m\u001b[0m\n\u001b[0m\u001b[1;32m   6300\u001b[0m \u001b[0;34m\u001b[0m\u001b[0m\n\u001b[1;32m   6301\u001b[0m     \u001b[0;34m@\u001b[0m\u001b[0mfinal\u001b[0m\u001b[0;34m\u001b[0m\u001b[0;34m\u001b[0m\u001b[0m\n",
            "\u001b[0;31mAttributeError\u001b[0m: 'DataFrame' object has no attribute 'reshape'"
          ]
        }
      ]
    },
    {
      "cell_type": "code",
      "source": [
        "lin_reg = LinearRegression()\n",
        "lin_reg.fit(X_train, y_train)\n",
        "\n",
        "pred = lin_reg.predict(X_test)\n",
        "\n",
        "three_metrics(price_scaler.inverse_transform(y_test.reshape(-1,1)), price_scaler.inverse_transform(pred.reshape(-1,1)))"
      ],
      "metadata": {
        "id": "AasnhQfXeNsX"
      },
      "execution_count": null,
      "outputs": []
    }
  ]
}