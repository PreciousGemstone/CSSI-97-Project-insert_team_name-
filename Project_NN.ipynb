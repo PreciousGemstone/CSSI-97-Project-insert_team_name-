{
  "nbformat": 4,
  "nbformat_minor": 0,
  "metadata": {
    "colab": {
      "provenance": [],
      "include_colab_link": true
    },
    "kernelspec": {
      "name": "python3",
      "display_name": "Python 3"
    },
    "language_info": {
      "name": "python"
    }
  },
  "cells": [
    {
      "cell_type": "markdown",
      "metadata": {
        "id": "view-in-github",
        "colab_type": "text"
      },
      "source": [
        "<a href=\"https://colab.research.google.com/github/PreciousGemstone/CSSI-97-Project-insert_team_name-/blob/main/Project_NN.ipynb\" target=\"_parent\"><img src=\"https://colab.research.google.com/assets/colab-badge.svg\" alt=\"Open In Colab\"/></a>"
      ]
    },
    {
      "cell_type": "code",
      "execution_count": null,
      "metadata": {
        "id": "rvPwCuPoKA9y"
      },
      "outputs": [],
      "source": [
        "import numpy as np\n",
        "import pandas as pd\n",
        "import sklearn\n",
        "from sklearn.model_selection import train_test_split\n",
        "from sklearn.linear_model import LinearRegression\n",
        "from sklearn.metrics import mean_squared_error, r2_score, mean_absolute_error\n",
        "from sklearn import linear_model\n",
        "from sklearn.linear_model import LassoCV\n",
        "from sklearn.linear_model import RidgeCV\n",
        "from sklearn.preprocessing import StandardScaler\n",
        "from sklearn.neural_network import MLPRegressor"
      ]
    },
    {
      "cell_type": "code",
      "source": [
        "def three_metrics(y_test, y_pred):\n",
        "\n",
        "  mse = mean_squared_error(y_test, y_pred)\n",
        "  mae = mean_absolute_error(y_test, y_pred)\n",
        "  r2 = r2_score(y_test, y_pred)\n",
        "\n",
        "\n",
        "  print(\"Mean Squared Error: \" + str(mse))\n",
        "  print(\"Mean Absolute Error: \" + str(mae))\n",
        "  print(\"r2 score: \" + str(r2))"
      ],
      "metadata": {
        "id": "I6IwSpso6V1t"
      },
      "execution_count": null,
      "outputs": []
    },
    {
      "cell_type": "code",
      "source": [
        "data = 'https://raw.githubusercontent.com/PreciousGemstone/CSSI-97-Project-insert_team_name-/refs/heads/main/laptop_prices.csv'\n",
        "laptop = pd.read_csv(data)\n",
        "\n",
        "X_train_data = 'https://raw.githubusercontent.com/PreciousGemstone/CSSI-97-Project-insert_team_name-/refs/heads/main/X_train.csv'\n",
        "X_train = pd.read_csv(X_train_data)\n",
        "\n",
        "X_test_data = 'https://raw.githubusercontent.com/PreciousGemstone/CSSI-97-Project-insert_team_name-/refs/heads/main/X_test.csv'\n",
        "X_test = pd.read_csv(X_test_data)\n",
        "\n",
        "y_train_data = 'https://raw.githubusercontent.com/PreciousGemstone/CSSI-97-Project-insert_team_name-/refs/heads/main/y_train.csv'\n",
        "y_train = pd.read_csv(y_train_data)\n",
        "\n",
        "y_test_data = 'https://raw.githubusercontent.com/PreciousGemstone/CSSI-97-Project-insert_team_name-/refs/heads/main/y_test.csv'\n",
        "y_test = pd.read_csv(y_test_data)"
      ],
      "metadata": {
        "id": "5eB59vu1HYFc"
      },
      "execution_count": null,
      "outputs": []
    },
    {
      "cell_type": "code",
      "source": [
        "neuralnetwork = MLPRegressor(hidden_layer_sizes=(250), activation='identity', solver='adam', alpha=0.0001, batch_size='auto', learning_rate='constant',\n",
        "                             learning_rate_init=0.001, power_t=0.5, max_iter=250, shuffle=True, random_state=42, tol=0.0001, verbose=False,\n",
        "                             warm_start=False, momentum=0.9, nesterovs_momentum=True, early_stopping=False, validation_fraction=0.1, beta_1=0.9,\n",
        "                             beta_2=0.999, epsilon=1e-08, n_iter_no_change=10, max_fun=15000)\n",
        "neuralnetwork.fit(X_train, y_train)\n",
        "y_pred = neuralnetwork.predict(X_test)\n",
        "three_metrics(y_test, y_pred)"
      ],
      "metadata": {
        "colab": {
          "base_uri": "https://localhost:8080/"
        },
        "id": "BUeatzEK5cOM",
        "outputId": "9b244bb6-81f8-4abf-d30e-e10a72c4632b"
      },
      "execution_count": null,
      "outputs": [
        {
          "output_type": "stream",
          "name": "stderr",
          "text": [
            "/usr/local/lib/python3.11/dist-packages/sklearn/neural_network/_multilayer_perceptron.py:1650: DataConversionWarning: A column-vector y was passed when a 1d array was expected. Please change the shape of y to (n_samples, ), for example using ravel().\n",
            "  y = column_or_1d(y, warn=True)\n"
          ]
        },
        {
          "output_type": "stream",
          "name": "stdout",
          "text": [
            "Mean Squared Error: 1.252150538803162\n",
            "Mean Absolute Error: 0.7370975508859107\n",
            "r2 score: 0.014282201834056263\n"
          ]
        },
        {
          "output_type": "stream",
          "name": "stderr",
          "text": [
            "/usr/local/lib/python3.11/dist-packages/sklearn/neural_network/_multilayer_perceptron.py:691: ConvergenceWarning: Stochastic Optimizer: Maximum iterations (250) reached and the optimization hasn't converged yet.\n",
            "  warnings.warn(\n"
          ]
        }
      ]
    },
    {
      "cell_type": "code",
      "source": [
        "print(sklearn.__version__)"
      ],
      "metadata": {
        "colab": {
          "base_uri": "https://localhost:8080/"
        },
        "id": "PMjPlSUeLvBn",
        "outputId": "c64e16b1-5d26-490b-b410-2f3ce8d8eb84"
      },
      "execution_count": null,
      "outputs": [
        {
          "output_type": "stream",
          "name": "stdout",
          "text": [
            "1.6.1\n"
          ]
        }
      ]
    }
  ]
}