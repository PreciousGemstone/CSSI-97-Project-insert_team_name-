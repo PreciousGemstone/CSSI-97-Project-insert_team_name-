{
  "nbformat": 4,
  "nbformat_minor": 0,
  "metadata": {
    "colab": {
      "provenance": [],
      "include_colab_link": true
    },
    "kernelspec": {
      "name": "python3",
      "display_name": "Python 3"
    },
    "language_info": {
      "name": "python"
    }
  },
  "cells": [
    {
      "cell_type": "markdown",
      "metadata": {
        "id": "view-in-github",
        "colab_type": "text"
      },
      "source": [
        "<a href=\"https://colab.research.google.com/github/PreciousGemstone/CSSI-97-Project-insert_team_name-/blob/main/Project_data_hist.ipynb\" target=\"_parent\"><img src=\"https://colab.research.google.com/assets/colab-badge.svg\" alt=\"Open In Colab\"/></a>"
      ]
    },
    {
      "cell_type": "code",
      "execution_count": 12,
      "metadata": {
        "id": "rvPwCuPoKA9y"
      },
      "outputs": [],
      "source": [
        "import numpy as np\n",
        "import pandas as pd\n",
        "import sklearn\n",
        "from sklearn.model_selection import train_test_split\n",
        "from sklearn.linear_model import LinearRegression\n",
        "from sklearn.metrics import mean_squared_error, r2_score, mean_absolute_error\n",
        "from sklearn import linear_model\n",
        "from sklearn.linear_model import LassoCV\n",
        "from sklearn.linear_model import RidgeCV\n",
        "from sklearn.preprocessing import StandardScaler\n",
        "import matplotlib.pyplot as plt"
      ]
    },
    {
      "cell_type": "code",
      "source": [
        "#@title get_data function\n",
        "def get_data():\n",
        "  data = 'https://raw.githubusercontent.com/PreciousGemstone/CSSI-97-Project-insert_team_name-/refs/heads/main/laptop_prices.csv'\n",
        "  laptop = pd.read_csv(data)\n",
        "  #AI helped write this code\n",
        "\n",
        "  def categorize_cpu(cpu_model):\n",
        "      if isinstance(cpu_model, str):\n",
        "          cpu_model_lower = cpu_model.lower()\n",
        "          if 'core i7' in cpu_model_lower:\n",
        "              return 'Core i7'\n",
        "          elif 'core i5' in cpu_model_lower:\n",
        "              return 'Core i5'\n",
        "          elif 'core i3' in cpu_model_lower:\n",
        "              return 'Core i3'\n",
        "          elif 'ryzen' in cpu_model_lower:\n",
        "              return 'Ryzen'\n",
        "          elif 'celeron' in cpu_model_lower:\n",
        "              return 'Celeron'\n",
        "          elif 'atom' in cpu_model_lower:\n",
        "              return 'Atom'\n",
        "          elif 'xeon' in cpu_model_lower:\n",
        "              return 'Xeon'\n",
        "          elif 'a' in cpu_model_lower and '-series' in cpu_model_lower:\n",
        "              return 'A-Series'\n",
        "          elif 'e' in cpu_model_lower and '-series' in cpu_model_lower:\n",
        "              return 'E-Series'\n",
        "          elif 'fx' in cpu_model_lower:\n",
        "              return 'FX-Series'\n",
        "          elif 'pentium' in cpu_model_lower:\n",
        "              return 'Pentium'\n",
        "          elif 'core m' in cpu_model_lower:\n",
        "              return 'Core M'\n",
        "          elif 'cortex' in cpu_model_lower:\n",
        "              return 'Cortex'\n",
        "          else:\n",
        "              return 'Other'\n",
        "      return 'Unknown'\n",
        "\n",
        "  laptop['CPU_categories'] = laptop['CPU_model'].apply(categorize_cpu)\n",
        "\n",
        "  def categorize_gpu(gpu_model):\n",
        "      if isinstance(gpu_model, str):\n",
        "          gpu_model_lower = gpu_model.lower()\n",
        "          if 'geforce gtx' in gpu_model_lower:\n",
        "              return 'Nvidia GeForce GTX'\n",
        "          elif 'geforce mx' in gpu_model_lower:\n",
        "              return 'Nvidia GeForce MX'\n",
        "          elif 'geforce' in gpu_model_lower:\n",
        "              return 'Nvidia GeForce'\n",
        "          elif 'quadro' in gpu_model_lower:\n",
        "              return 'Nvidia Quadro'\n",
        "          elif 'nvidia' in gpu_model_lower:\n",
        "              return 'Nvidia (Other)'\n",
        "          elif 'radeon pro' in gpu_model_lower:\n",
        "              return 'AMD Radeon Pro'\n",
        "          elif 'radeon' in gpu_model_lower:\n",
        "              return 'AMD Radeon'\n",
        "          elif 'amd' in gpu_model_lower:\n",
        "              return 'AMD (Other)'\n",
        "          elif 'iris plus graphics' in gpu_model_lower:\n",
        "              return 'Intel Iris Plus'\n",
        "          elif 'hd graphics' in gpu_model_lower:\n",
        "              return 'Intel HD Graphics'\n",
        "          elif 'intel' in gpu_model_lower or 'graphics' in gpu_model_lower:\n",
        "              return 'Intel (Other)'\n",
        "          else:\n",
        "              return 'Other'\n",
        "      return 'Unknown'\n",
        "\n",
        "  laptop['GPU_categories'] = laptop['GPU_model'].apply(categorize_gpu)\n",
        "\n",
        "  #No more AI after this\n",
        "\n",
        "  improved_laptop=laptop.drop(['CPU_model','GPU_model'],axis=1)\n",
        "  improved_laptop=improved_laptop.drop(['Product','Company','TypeName','OS', 'CPU_company', 'GPU_company'],axis=1)\n",
        "\n",
        "\n",
        "  improved_laptop_preonehot = improved_laptop\n",
        "\n",
        "  improved_laptop = pd.get_dummies(improved_laptop, columns=['CPU_categories','GPU_categories', 'Touchscreen', 'PrimaryStorageType','SecondaryStorageType',\n",
        "                                                           'Screen', 'RetinaDisplay','IPSpanel'], drop_first=True, dtype=int)\n",
        "\n",
        "  improved_laptop_noscale = improved_laptop\n",
        "  laptop_prices = improved_laptop[['Price_euros']]\n",
        "  improved_laptop_features = improved_laptop.drop('Price_euros', axis=1)\n",
        "\n",
        "\n",
        "  improved_laptop_onehot = improved_laptop_features.drop(['Inches', 'Ram', 'Weight', 'ScreenW', 'ScreenH',\n",
        "                                                'CPU_freq', 'PrimaryStorage', 'SecondaryStorage'],axis=1)\n",
        "  improved_laptop_continous = improved_laptop_features[['Inches', 'Ram', 'Weight', 'ScreenW', 'ScreenH',\n",
        "                                                'CPU_freq', 'PrimaryStorage', 'SecondaryStorage']]\n",
        "\n",
        "  scaler = StandardScaler()\n",
        "  price_scaler = StandardScaler()\n",
        "\n",
        "  improved_laptop_continous_scaled = scaler.fit_transform(improved_laptop_continous)\n",
        "  laptop_prices_scaled = price_scaler.fit_transform(laptop_prices)\n",
        "\n",
        "  improved_laptop_continous = pd.DataFrame(improved_laptop_continous_scaled, columns= improved_laptop_continous.columns)\n",
        "  laptop_prices = pd.DataFrame(laptop_prices_scaled, columns= laptop_prices.columns)\n",
        "\n",
        "  improved_laptop = pd.concat([improved_laptop_continous, improved_laptop_onehot], axis=1)\n",
        "\n",
        "  improved_laptop_wprice = pd.concat([laptop_prices, improved_laptop], axis=1)\n",
        "\n",
        "  X, y = improved_laptop.values, laptop_prices.values\n",
        "  X_train, X_test, y_train, y_test = train_test_split(X, y, test_size = 0.2, random_state = 30)\n",
        "  return(X_train, X_test, y_train, y_test, scaler, price_scaler, improved_laptop, improved_laptop_wprice, laptop_prices, improved_laptop_continous, improved_laptop_noscale, improved_laptop_preonehot)\n",
        "\n",
        "\n",
        "X_train, X_test, y_train, y_test, scaler, price_scaler, improved_laptop, improved_laptop_wprice, laptop_prices, improved_laptop_continous, improved_laptop_noscale, improved_laptop_preonehot = get_data()"
      ],
      "metadata": {
        "id": "RiX-fFaFIYlZ"
      },
      "execution_count": 13,
      "outputs": []
    },
    {
      "cell_type": "code",
      "source": [
        "data = 'https://raw.githubusercontent.com/PreciousGemstone/CSSI-97-Project-insert_team_name-/refs/heads/main/laptop_prices.csv'\n",
        "laptop = pd.read_csv(data)\n",
        "laptop.info()\n",
        "laptop.head()"
      ],
      "metadata": {
        "id": "5eB59vu1HYFc",
        "colab": {
          "base_uri": "https://localhost:8080/",
          "height": 950
        },
        "outputId": "629ba048-6bcd-4397-bef7-4866f21ca7ba"
      },
      "execution_count": 23,
      "outputs": [
        {
          "output_type": "stream",
          "name": "stdout",
          "text": [
            "<class 'pandas.core.frame.DataFrame'>\n",
            "RangeIndex: 1275 entries, 0 to 1274\n",
            "Data columns (total 23 columns):\n",
            " #   Column                Non-Null Count  Dtype  \n",
            "---  ------                --------------  -----  \n",
            " 0   Company               1275 non-null   object \n",
            " 1   Product               1275 non-null   object \n",
            " 2   TypeName              1275 non-null   object \n",
            " 3   Inches                1275 non-null   float64\n",
            " 4   Ram                   1275 non-null   int64  \n",
            " 5   OS                    1275 non-null   object \n",
            " 6   Weight                1275 non-null   float64\n",
            " 7   Price_euros           1275 non-null   float64\n",
            " 8   Screen                1275 non-null   object \n",
            " 9   ScreenW               1275 non-null   int64  \n",
            " 10  ScreenH               1275 non-null   int64  \n",
            " 11  Touchscreen           1275 non-null   object \n",
            " 12  IPSpanel              1275 non-null   object \n",
            " 13  RetinaDisplay         1275 non-null   object \n",
            " 14  CPU_company           1275 non-null   object \n",
            " 15  CPU_freq              1275 non-null   float64\n",
            " 16  CPU_model             1275 non-null   object \n",
            " 17  PrimaryStorage        1275 non-null   int64  \n",
            " 18  SecondaryStorage      1275 non-null   int64  \n",
            " 19  PrimaryStorageType    1275 non-null   object \n",
            " 20  SecondaryStorageType  1275 non-null   object \n",
            " 21  GPU_company           1275 non-null   object \n",
            " 22  GPU_model             1275 non-null   object \n",
            "dtypes: float64(4), int64(5), object(14)\n",
            "memory usage: 229.2+ KB\n"
          ]
        },
        {
          "output_type": "execute_result",
          "data": {
            "text/plain": [
              "  Company      Product   TypeName  Inches  Ram     OS  Weight  Price_euros  \\\n",
              "0   Apple  MacBook Pro  Ultrabook    13.3    8  macOS    1.37      1339.69   \n",
              "1   Apple  Macbook Air  Ultrabook    13.3    8  macOS    1.34       898.94   \n",
              "2      HP       250 G6   Notebook    15.6    8  No OS    1.86       575.00   \n",
              "3   Apple  MacBook Pro  Ultrabook    15.4   16  macOS    1.83      2537.45   \n",
              "4   Apple  MacBook Pro  Ultrabook    13.3    8  macOS    1.37      1803.60   \n",
              "\n",
              "     Screen  ScreenW  ...  RetinaDisplay CPU_company CPU_freq      CPU_model  \\\n",
              "0  Standard     2560  ...            Yes       Intel      2.3        Core i5   \n",
              "1  Standard     1440  ...             No       Intel      1.8        Core i5   \n",
              "2   Full HD     1920  ...             No       Intel      2.5  Core i5 7200U   \n",
              "3  Standard     2880  ...            Yes       Intel      2.7        Core i7   \n",
              "4  Standard     2560  ...            Yes       Intel      3.1        Core i5   \n",
              "\n",
              "  PrimaryStorage  SecondaryStorage PrimaryStorageType  SecondaryStorageType  \\\n",
              "0            128                 0                SSD                    No   \n",
              "1            128                 0      Flash Storage                    No   \n",
              "2            256                 0                SSD                    No   \n",
              "3            512                 0                SSD                    No   \n",
              "4            256                 0                SSD                    No   \n",
              "\n",
              "   GPU_company               GPU_model  \n",
              "0        Intel  Iris Plus Graphics 640  \n",
              "1        Intel        HD Graphics 6000  \n",
              "2        Intel         HD Graphics 620  \n",
              "3          AMD          Radeon Pro 455  \n",
              "4        Intel  Iris Plus Graphics 650  \n",
              "\n",
              "[5 rows x 23 columns]"
            ],
            "text/html": [
              "\n",
              "  <div id=\"df-1649a28b-955e-4379-aa0c-eba66acdd9f7\" class=\"colab-df-container\">\n",
              "    <div>\n",
              "<style scoped>\n",
              "    .dataframe tbody tr th:only-of-type {\n",
              "        vertical-align: middle;\n",
              "    }\n",
              "\n",
              "    .dataframe tbody tr th {\n",
              "        vertical-align: top;\n",
              "    }\n",
              "\n",
              "    .dataframe thead th {\n",
              "        text-align: right;\n",
              "    }\n",
              "</style>\n",
              "<table border=\"1\" class=\"dataframe\">\n",
              "  <thead>\n",
              "    <tr style=\"text-align: right;\">\n",
              "      <th></th>\n",
              "      <th>Company</th>\n",
              "      <th>Product</th>\n",
              "      <th>TypeName</th>\n",
              "      <th>Inches</th>\n",
              "      <th>Ram</th>\n",
              "      <th>OS</th>\n",
              "      <th>Weight</th>\n",
              "      <th>Price_euros</th>\n",
              "      <th>Screen</th>\n",
              "      <th>ScreenW</th>\n",
              "      <th>...</th>\n",
              "      <th>RetinaDisplay</th>\n",
              "      <th>CPU_company</th>\n",
              "      <th>CPU_freq</th>\n",
              "      <th>CPU_model</th>\n",
              "      <th>PrimaryStorage</th>\n",
              "      <th>SecondaryStorage</th>\n",
              "      <th>PrimaryStorageType</th>\n",
              "      <th>SecondaryStorageType</th>\n",
              "      <th>GPU_company</th>\n",
              "      <th>GPU_model</th>\n",
              "    </tr>\n",
              "  </thead>\n",
              "  <tbody>\n",
              "    <tr>\n",
              "      <th>0</th>\n",
              "      <td>Apple</td>\n",
              "      <td>MacBook Pro</td>\n",
              "      <td>Ultrabook</td>\n",
              "      <td>13.3</td>\n",
              "      <td>8</td>\n",
              "      <td>macOS</td>\n",
              "      <td>1.37</td>\n",
              "      <td>1339.69</td>\n",
              "      <td>Standard</td>\n",
              "      <td>2560</td>\n",
              "      <td>...</td>\n",
              "      <td>Yes</td>\n",
              "      <td>Intel</td>\n",
              "      <td>2.3</td>\n",
              "      <td>Core i5</td>\n",
              "      <td>128</td>\n",
              "      <td>0</td>\n",
              "      <td>SSD</td>\n",
              "      <td>No</td>\n",
              "      <td>Intel</td>\n",
              "      <td>Iris Plus Graphics 640</td>\n",
              "    </tr>\n",
              "    <tr>\n",
              "      <th>1</th>\n",
              "      <td>Apple</td>\n",
              "      <td>Macbook Air</td>\n",
              "      <td>Ultrabook</td>\n",
              "      <td>13.3</td>\n",
              "      <td>8</td>\n",
              "      <td>macOS</td>\n",
              "      <td>1.34</td>\n",
              "      <td>898.94</td>\n",
              "      <td>Standard</td>\n",
              "      <td>1440</td>\n",
              "      <td>...</td>\n",
              "      <td>No</td>\n",
              "      <td>Intel</td>\n",
              "      <td>1.8</td>\n",
              "      <td>Core i5</td>\n",
              "      <td>128</td>\n",
              "      <td>0</td>\n",
              "      <td>Flash Storage</td>\n",
              "      <td>No</td>\n",
              "      <td>Intel</td>\n",
              "      <td>HD Graphics 6000</td>\n",
              "    </tr>\n",
              "    <tr>\n",
              "      <th>2</th>\n",
              "      <td>HP</td>\n",
              "      <td>250 G6</td>\n",
              "      <td>Notebook</td>\n",
              "      <td>15.6</td>\n",
              "      <td>8</td>\n",
              "      <td>No OS</td>\n",
              "      <td>1.86</td>\n",
              "      <td>575.00</td>\n",
              "      <td>Full HD</td>\n",
              "      <td>1920</td>\n",
              "      <td>...</td>\n",
              "      <td>No</td>\n",
              "      <td>Intel</td>\n",
              "      <td>2.5</td>\n",
              "      <td>Core i5 7200U</td>\n",
              "      <td>256</td>\n",
              "      <td>0</td>\n",
              "      <td>SSD</td>\n",
              "      <td>No</td>\n",
              "      <td>Intel</td>\n",
              "      <td>HD Graphics 620</td>\n",
              "    </tr>\n",
              "    <tr>\n",
              "      <th>3</th>\n",
              "      <td>Apple</td>\n",
              "      <td>MacBook Pro</td>\n",
              "      <td>Ultrabook</td>\n",
              "      <td>15.4</td>\n",
              "      <td>16</td>\n",
              "      <td>macOS</td>\n",
              "      <td>1.83</td>\n",
              "      <td>2537.45</td>\n",
              "      <td>Standard</td>\n",
              "      <td>2880</td>\n",
              "      <td>...</td>\n",
              "      <td>Yes</td>\n",
              "      <td>Intel</td>\n",
              "      <td>2.7</td>\n",
              "      <td>Core i7</td>\n",
              "      <td>512</td>\n",
              "      <td>0</td>\n",
              "      <td>SSD</td>\n",
              "      <td>No</td>\n",
              "      <td>AMD</td>\n",
              "      <td>Radeon Pro 455</td>\n",
              "    </tr>\n",
              "    <tr>\n",
              "      <th>4</th>\n",
              "      <td>Apple</td>\n",
              "      <td>MacBook Pro</td>\n",
              "      <td>Ultrabook</td>\n",
              "      <td>13.3</td>\n",
              "      <td>8</td>\n",
              "      <td>macOS</td>\n",
              "      <td>1.37</td>\n",
              "      <td>1803.60</td>\n",
              "      <td>Standard</td>\n",
              "      <td>2560</td>\n",
              "      <td>...</td>\n",
              "      <td>Yes</td>\n",
              "      <td>Intel</td>\n",
              "      <td>3.1</td>\n",
              "      <td>Core i5</td>\n",
              "      <td>256</td>\n",
              "      <td>0</td>\n",
              "      <td>SSD</td>\n",
              "      <td>No</td>\n",
              "      <td>Intel</td>\n",
              "      <td>Iris Plus Graphics 650</td>\n",
              "    </tr>\n",
              "  </tbody>\n",
              "</table>\n",
              "<p>5 rows × 23 columns</p>\n",
              "</div>\n",
              "    <div class=\"colab-df-buttons\">\n",
              "\n",
              "  <div class=\"colab-df-container\">\n",
              "    <button class=\"colab-df-convert\" onclick=\"convertToInteractive('df-1649a28b-955e-4379-aa0c-eba66acdd9f7')\"\n",
              "            title=\"Convert this dataframe to an interactive table.\"\n",
              "            style=\"display:none;\">\n",
              "\n",
              "  <svg xmlns=\"http://www.w3.org/2000/svg\" height=\"24px\" viewBox=\"0 -960 960 960\">\n",
              "    <path d=\"M120-120v-720h720v720H120Zm60-500h600v-160H180v160Zm220 220h160v-160H400v160Zm0 220h160v-160H400v160ZM180-400h160v-160H180v160Zm440 0h160v-160H620v160ZM180-180h160v-160H180v160Zm440 0h160v-160H620v160Z\"/>\n",
              "  </svg>\n",
              "    </button>\n",
              "\n",
              "  <style>\n",
              "    .colab-df-container {\n",
              "      display:flex;\n",
              "      gap: 12px;\n",
              "    }\n",
              "\n",
              "    .colab-df-convert {\n",
              "      background-color: #E8F0FE;\n",
              "      border: none;\n",
              "      border-radius: 50%;\n",
              "      cursor: pointer;\n",
              "      display: none;\n",
              "      fill: #1967D2;\n",
              "      height: 32px;\n",
              "      padding: 0 0 0 0;\n",
              "      width: 32px;\n",
              "    }\n",
              "\n",
              "    .colab-df-convert:hover {\n",
              "      background-color: #E2EBFA;\n",
              "      box-shadow: 0px 1px 2px rgba(60, 64, 67, 0.3), 0px 1px 3px 1px rgba(60, 64, 67, 0.15);\n",
              "      fill: #174EA6;\n",
              "    }\n",
              "\n",
              "    .colab-df-buttons div {\n",
              "      margin-bottom: 4px;\n",
              "    }\n",
              "\n",
              "    [theme=dark] .colab-df-convert {\n",
              "      background-color: #3B4455;\n",
              "      fill: #D2E3FC;\n",
              "    }\n",
              "\n",
              "    [theme=dark] .colab-df-convert:hover {\n",
              "      background-color: #434B5C;\n",
              "      box-shadow: 0px 1px 3px 1px rgba(0, 0, 0, 0.15);\n",
              "      filter: drop-shadow(0px 1px 2px rgba(0, 0, 0, 0.3));\n",
              "      fill: #FFFFFF;\n",
              "    }\n",
              "  </style>\n",
              "\n",
              "    <script>\n",
              "      const buttonEl =\n",
              "        document.querySelector('#df-1649a28b-955e-4379-aa0c-eba66acdd9f7 button.colab-df-convert');\n",
              "      buttonEl.style.display =\n",
              "        google.colab.kernel.accessAllowed ? 'block' : 'none';\n",
              "\n",
              "      async function convertToInteractive(key) {\n",
              "        const element = document.querySelector('#df-1649a28b-955e-4379-aa0c-eba66acdd9f7');\n",
              "        const dataTable =\n",
              "          await google.colab.kernel.invokeFunction('convertToInteractive',\n",
              "                                                    [key], {});\n",
              "        if (!dataTable) return;\n",
              "\n",
              "        const docLinkHtml = 'Like what you see? Visit the ' +\n",
              "          '<a target=\"_blank\" href=https://colab.research.google.com/notebooks/data_table.ipynb>data table notebook</a>'\n",
              "          + ' to learn more about interactive tables.';\n",
              "        element.innerHTML = '';\n",
              "        dataTable['output_type'] = 'display_data';\n",
              "        await google.colab.output.renderOutput(dataTable, element);\n",
              "        const docLink = document.createElement('div');\n",
              "        docLink.innerHTML = docLinkHtml;\n",
              "        element.appendChild(docLink);\n",
              "      }\n",
              "    </script>\n",
              "  </div>\n",
              "\n",
              "\n",
              "    <div id=\"df-6ae8add0-e290-41f3-9313-f229e9431aaf\">\n",
              "      <button class=\"colab-df-quickchart\" onclick=\"quickchart('df-6ae8add0-e290-41f3-9313-f229e9431aaf')\"\n",
              "                title=\"Suggest charts\"\n",
              "                style=\"display:none;\">\n",
              "\n",
              "<svg xmlns=\"http://www.w3.org/2000/svg\" height=\"24px\"viewBox=\"0 0 24 24\"\n",
              "     width=\"24px\">\n",
              "    <g>\n",
              "        <path d=\"M19 3H5c-1.1 0-2 .9-2 2v14c0 1.1.9 2 2 2h14c1.1 0 2-.9 2-2V5c0-1.1-.9-2-2-2zM9 17H7v-7h2v7zm4 0h-2V7h2v10zm4 0h-2v-4h2v4z\"/>\n",
              "    </g>\n",
              "</svg>\n",
              "      </button>\n",
              "\n",
              "<style>\n",
              "  .colab-df-quickchart {\n",
              "      --bg-color: #E8F0FE;\n",
              "      --fill-color: #1967D2;\n",
              "      --hover-bg-color: #E2EBFA;\n",
              "      --hover-fill-color: #174EA6;\n",
              "      --disabled-fill-color: #AAA;\n",
              "      --disabled-bg-color: #DDD;\n",
              "  }\n",
              "\n",
              "  [theme=dark] .colab-df-quickchart {\n",
              "      --bg-color: #3B4455;\n",
              "      --fill-color: #D2E3FC;\n",
              "      --hover-bg-color: #434B5C;\n",
              "      --hover-fill-color: #FFFFFF;\n",
              "      --disabled-bg-color: #3B4455;\n",
              "      --disabled-fill-color: #666;\n",
              "  }\n",
              "\n",
              "  .colab-df-quickchart {\n",
              "    background-color: var(--bg-color);\n",
              "    border: none;\n",
              "    border-radius: 50%;\n",
              "    cursor: pointer;\n",
              "    display: none;\n",
              "    fill: var(--fill-color);\n",
              "    height: 32px;\n",
              "    padding: 0;\n",
              "    width: 32px;\n",
              "  }\n",
              "\n",
              "  .colab-df-quickchart:hover {\n",
              "    background-color: var(--hover-bg-color);\n",
              "    box-shadow: 0 1px 2px rgba(60, 64, 67, 0.3), 0 1px 3px 1px rgba(60, 64, 67, 0.15);\n",
              "    fill: var(--button-hover-fill-color);\n",
              "  }\n",
              "\n",
              "  .colab-df-quickchart-complete:disabled,\n",
              "  .colab-df-quickchart-complete:disabled:hover {\n",
              "    background-color: var(--disabled-bg-color);\n",
              "    fill: var(--disabled-fill-color);\n",
              "    box-shadow: none;\n",
              "  }\n",
              "\n",
              "  .colab-df-spinner {\n",
              "    border: 2px solid var(--fill-color);\n",
              "    border-color: transparent;\n",
              "    border-bottom-color: var(--fill-color);\n",
              "    animation:\n",
              "      spin 1s steps(1) infinite;\n",
              "  }\n",
              "\n",
              "  @keyframes spin {\n",
              "    0% {\n",
              "      border-color: transparent;\n",
              "      border-bottom-color: var(--fill-color);\n",
              "      border-left-color: var(--fill-color);\n",
              "    }\n",
              "    20% {\n",
              "      border-color: transparent;\n",
              "      border-left-color: var(--fill-color);\n",
              "      border-top-color: var(--fill-color);\n",
              "    }\n",
              "    30% {\n",
              "      border-color: transparent;\n",
              "      border-left-color: var(--fill-color);\n",
              "      border-top-color: var(--fill-color);\n",
              "      border-right-color: var(--fill-color);\n",
              "    }\n",
              "    40% {\n",
              "      border-color: transparent;\n",
              "      border-right-color: var(--fill-color);\n",
              "      border-top-color: var(--fill-color);\n",
              "    }\n",
              "    60% {\n",
              "      border-color: transparent;\n",
              "      border-right-color: var(--fill-color);\n",
              "    }\n",
              "    80% {\n",
              "      border-color: transparent;\n",
              "      border-right-color: var(--fill-color);\n",
              "      border-bottom-color: var(--fill-color);\n",
              "    }\n",
              "    90% {\n",
              "      border-color: transparent;\n",
              "      border-bottom-color: var(--fill-color);\n",
              "    }\n",
              "  }\n",
              "</style>\n",
              "\n",
              "      <script>\n",
              "        async function quickchart(key) {\n",
              "          const quickchartButtonEl =\n",
              "            document.querySelector('#' + key + ' button');\n",
              "          quickchartButtonEl.disabled = true;  // To prevent multiple clicks.\n",
              "          quickchartButtonEl.classList.add('colab-df-spinner');\n",
              "          try {\n",
              "            const charts = await google.colab.kernel.invokeFunction(\n",
              "                'suggestCharts', [key], {});\n",
              "          } catch (error) {\n",
              "            console.error('Error during call to suggestCharts:', error);\n",
              "          }\n",
              "          quickchartButtonEl.classList.remove('colab-df-spinner');\n",
              "          quickchartButtonEl.classList.add('colab-df-quickchart-complete');\n",
              "        }\n",
              "        (() => {\n",
              "          let quickchartButtonEl =\n",
              "            document.querySelector('#df-6ae8add0-e290-41f3-9313-f229e9431aaf button');\n",
              "          quickchartButtonEl.style.display =\n",
              "            google.colab.kernel.accessAllowed ? 'block' : 'none';\n",
              "        })();\n",
              "      </script>\n",
              "    </div>\n",
              "    </div>\n",
              "  </div>\n"
            ],
            "application/vnd.google.colaboratory.intrinsic+json": {
              "type": "dataframe",
              "variable_name": "laptop"
            }
          },
          "metadata": {},
          "execution_count": 23
        }
      ]
    },
    {
      "cell_type": "code",
      "source": [
        "Inches = improved_laptop_preonehot[\"Inches\"]\n",
        "\n",
        "plt.hist(Inches)\n",
        "\n",
        "plt.xlabel(\"Laptop Screen size\")\n",
        "plt.ylabel(\"Amount\")"
      ],
      "metadata": {
        "colab": {
          "base_uri": "https://localhost:8080/",
          "height": 467
        },
        "id": "24wJpmovFddY",
        "outputId": "09cb0387-1d45-45e1-f02b-bca701782a80"
      },
      "execution_count": 15,
      "outputs": [
        {
          "output_type": "execute_result",
          "data": {
            "text/plain": [
              "Text(0, 0.5, 'Amount')"
            ]
          },
          "metadata": {},
          "execution_count": 15
        },
        {
          "output_type": "display_data",
          "data": {
            "text/plain": [
              "<Figure size 640x480 with 1 Axes>"
            ],
            "image/png": "[encoded data removed]"
          },
          "metadata": {}
        }
      ]
    },
    {
      "cell_type": "code",
      "source": [
        "#RAM, WEIGHT, PRCE_EUROS ,"
      ],
      "metadata": {
        "id": "hW29b0bnIBlp"
      },
      "execution_count": 16,
      "outputs": []
    },
    {
      "cell_type": "code",
      "source": [
        "improved_laptop_preonehot.info()"
      ],
      "metadata": {
        "colab": {
          "base_uri": "https://localhost:8080/"
        },
        "id": "LdJzmtEhIi4x",
        "outputId": "1bce6d50-197e-40d8-c4f4-bb6422c2ec34"
      },
      "execution_count": 17,
      "outputs": [
        {
          "output_type": "stream",
          "name": "stdout",
          "text": [
            "<class 'pandas.core.frame.DataFrame'>\n",
            "RangeIndex: 1275 entries, 0 to 1274\n",
            "Data columns (total 17 columns):\n",
            " #   Column                Non-Null Count  Dtype  \n",
            "---  ------                --------------  -----  \n",
            " 0   Inches                1275 non-null   float64\n",
            " 1   Ram                   1275 non-null   int64  \n",
            " 2   Weight                1275 non-null   float64\n",
            " 3   Price_euros           1275 non-null   float64\n",
            " 4   Screen                1275 non-null   object \n",
            " 5   ScreenW               1275 non-null   int64  \n",
            " 6   ScreenH               1275 non-null   int64  \n",
            " 7   Touchscreen           1275 non-null   object \n",
            " 8   IPSpanel              1275 non-null   object \n",
            " 9   RetinaDisplay         1275 non-null   object \n",
            " 10  CPU_freq              1275 non-null   float64\n",
            " 11  PrimaryStorage        1275 non-null   int64  \n",
            " 12  SecondaryStorage      1275 non-null   int64  \n",
            " 13  PrimaryStorageType    1275 non-null   object \n",
            " 14  SecondaryStorageType  1275 non-null   object \n",
            " 15  CPU_categories        1275 non-null   object \n",
            " 16  GPU_categories        1275 non-null   object \n",
            "dtypes: float64(4), int64(5), object(8)\n",
            "memory usage: 169.5+ KB\n"
          ]
        }
      ]
    },
    {
      "cell_type": "code",
      "source": [
        "RAM = improved_laptop_preonehot[\"Ram\"]\n",
        "\n",
        "plt.hist(RAM)\n",
        "plt.xlabel('Amount of Gigabytes of Ram')\n",
        "plt.ylabel('amount')"
      ],
      "metadata": {
        "colab": {
          "base_uri": "https://localhost:8080/",
          "height": 467
        },
        "id": "EEUEjnYnIqcQ",
        "outputId": "7322288f-b7bb-4878-82da-3cb00d30186c"
      },
      "execution_count": 18,
      "outputs": [
        {
          "output_type": "execute_result",
          "data": {
            "text/plain": [
              "Text(0, 0.5, 'amount')"
            ]
          },
          "metadata": {},
          "execution_count": 18
        },
        {
          "output_type": "display_data",
          "data": {
            "text/plain": [
              "<Figure size 640x480 with 1 Axes>"
            ],
            "image/png": "[encoded data removed]"
          },
          "metadata": {}
        }
      ]
    },
    {
      "cell_type": "code",
      "source": [
        "Weight = improved_laptop_preonehot[\"Weight\"]\n",
        "\n",
        "plt.hist(Weight)\n",
        "plt.xlabel(\"Weight in Kilograms\")\n",
        "plt.ylabel(\"Amount\")"
      ],
      "metadata": {
        "colab": {
          "base_uri": "https://localhost:8080/",
          "height": 467
        },
        "id": "isqrlQ-MKuBb",
        "outputId": "daa62ad7-ffb3-40f4-939b-21d60607b66d"
      },
      "execution_count": 22,
      "outputs": [
        {
          "output_type": "execute_result",
          "data": {
            "text/plain": [
              "Text(0.5, 0, 'Weight in Kilograms')"
            ]
          },
          "metadata": {},
          "execution_count": 22
        },
        {
          "output_type": "display_data",
          "data": {
            "text/plain": [
              "<Figure size 640x480 with 1 Axes>"
            ],
            "image/png": "[encoded data removed]"
          },
          "metadata": {}
        }
      ]
    },
    {
      "cell_type": "code",
      "source": [
        "GPU = improved_laptop_preonehot[\"GPU_categories\"]\n",
        "\n",
        "plt.hist(GPU)\n",
        "\n",
        "plt.xticks(GPU, rotation = 45, ha ='right')\n",
        "plt.xlabel(\"GPU categories\")\n",
        "plt.ylabel(\"Amount\")"
      ],
      "metadata": {
        "colab": {
          "base_uri": "https://localhost:8080/",
          "height": 561
        },
        "id": "WBfLqMukK4BO",
        "outputId": "bc9e9d8e-8179-461e-cb31-1ab5808ffb74"
      },
      "execution_count": 24,
      "outputs": [
        {
          "output_type": "execute_result",
          "data": {
            "text/plain": [
              "Text(0, 0.5, 'Amount')"
            ]
          },
          "metadata": {},
          "execution_count": 24
        },
        {
          "output_type": "display_data",
          "data": {
            "text/plain": [
              "<Figure size 640x480 with 1 Axes>"
            ],
            "image/png": "[encoded data removed]"
          },
          "metadata": {}
        }
      ]
    },
    {
      "cell_type": "code",
      "source": [
        "CPU = improved_laptop_preonehot[\"CPU_categories\"]\n",
        "\n",
        "plt.hist(CPU)\n",
        "\n",
        "plt.xticks(CPU, rotation = 45, ha ='right')\n",
        "plt.xlabel(\"CPU categories\")\n",
        "plt.ylabel(\"Amount\")"
      ],
      "metadata": {
        "colab": {
          "base_uri": "https://localhost:8080/",
          "height": 509
        },
        "id": "rac-K6hyL8Vt",
        "outputId": "fae999b8-9ba4-46db-d9ca-58132ddb8e60"
      },
      "execution_count": 25,
      "outputs": [
        {
          "output_type": "execute_result",
          "data": {
            "text/plain": [
              "Text(0, 0.5, 'Amount')"
            ]
          },
          "metadata": {},
          "execution_count": 25
        },
        {
          "output_type": "display_data",
          "data": {
            "text/plain": [
              "<Figure size 640x480 with 1 Axes>"
            ],
            "image/png": "[encoded data removed]"
          },
          "metadata": {}
        }
      ]
    }
  ]
}